{
  "cells": [
    {
      "cell_type": "markdown",
      "id": "42289889-bd57-434e-9637-d3e354756316",
      "metadata": {
        "id": "42289889-bd57-434e-9637-d3e354756316"
      },
      "source": [
        "<center> <img src = https://raw.githubusercontent.com/AndreyRysistov/DatasetsForPandas/main/hh%20label.jpg alt=\"drawing\" style=\"width:400px;\">"
      ]
    },
    {
      "cell_type": "markdown",
      "id": "829cb75b-f14e-4ba8-9195-7ba929a7d656",
      "metadata": {
        "id": "829cb75b-f14e-4ba8-9195-7ba929a7d656",
        "tags": []
      },
      "source": [
        "# <center> Проект: Анализ вакансий из HeadHunter\n",
        "   "
      ]
    },
    {
      "cell_type": "code",
      "execution_count": 1,
      "id": "dccfde33-2452-43fb-a8a5-5c6ebc02a71d",
      "metadata": {
        "id": "dccfde33-2452-43fb-a8a5-5c6ebc02a71d"
      },
      "outputs": [],
      "source": [
        "import pandas as pd\n",
        "import psycopg2\n",
        "\n",
        "# деактивация предупреждений  \n",
        "import warnings\n",
        "warnings.filterwarnings(\"ignore\")\n",
        "\n",
        "# Импортируем биллиотеки, необходимые для построения графиков.\n",
        "import matplotlib.pyplot as plt\n",
        "import seaborn as sns\n",
        "import plotly.express as px\n"
      ]
    },
    {
      "cell_type": "code",
      "execution_count": 3,
      "id": "G4X_q8KBf7SF",
      "metadata": {
        "id": "G4X_q8KBf7SF"
      },
      "outputs": [],
      "source": [
        "connection = psycopg2.connect(\n",
        "    dbname=DBNAME,\n",
        "    user=USER,\n",
        "    host=HOST,\n",
        "    password=PASSWORD,\n",
        "    port=PORT\n",
        ")"
      ]
    },
    {
      "cell_type": "markdown",
      "id": "0dc6476b-7a00-44f1-ac93-6e3baed33a29",
      "metadata": {
        "id": "0dc6476b-7a00-44f1-ac93-6e3baed33a29"
      },
      "source": [
        "# Юнит 3. Предварительный анализ данных"
      ]
    },
    {
      "cell_type": "markdown",
      "id": "889782b6-8d1c-410e-8920-e57f27917c64",
      "metadata": {
        "id": "889782b6-8d1c-410e-8920-e57f27917c64"
      },
      "source": [
        "1. Напишите запрос, который посчитает количество вакансий в нашей базе (вакансии находятся в таблице vacancies). "
      ]
    },
    {
      "cell_type": "code",
      "execution_count": 4,
      "id": "bc39e68e-ed02-4ee2-9235-7258a2f867a8",
      "metadata": {
        "id": "bc39e68e-ed02-4ee2-9235-7258a2f867a8"
      },
      "outputs": [],
      "source": [
        "# текст запроса\n",
        "# Cчитаем все строки в таблице vacancies с помощью COUNT()\n",
        "query_3_1 = f'''SELECT COUNT(*) \n",
        "                FROM public.vacancies\n",
        "'''"
      ]
    },
    {
      "cell_type": "code",
      "execution_count": 5,
      "id": "7mAwtsk4hEHY",
      "metadata": {
        "id": "7mAwtsk4hEHY"
      },
      "outputs": [
        {
          "data": {
            "text/plain": [
              "'В базе всего 49197 вакансий'"
            ]
          },
          "metadata": {},
          "output_type": "display_data"
        }
      ],
      "source": [
        "# результат запроса\n",
        "vacancies_qty = pd.read_sql_query(query_3_1, connection) # Сохраняем результат запроса в переменную.\n",
        "# Используем метод squeeze() для преобразования датафрейма с одним элементом в скалярное значение, \n",
        "# и выводим результат на экран с помощью f-строки.\n",
        "display(f'В базе всего {vacancies_qty.squeeze()} вакансий') \n"
      ]
    },
    {
      "cell_type": "markdown",
      "id": "b583485d-1f9e-494e-ada4-80ffff7c53d6",
      "metadata": {
        "id": "b583485d-1f9e-494e-ada4-80ffff7c53d6"
      },
      "source": [
        "2. Напишите запрос, который посчитает количество работодателей (таблица employers). "
      ]
    },
    {
      "cell_type": "code",
      "execution_count": 6,
      "id": "5408c52c-3407-4a63-b25b-1aafa2322d28",
      "metadata": {
        "id": "5408c52c-3407-4a63-b25b-1aafa2322d28"
      },
      "outputs": [],
      "source": [
        "# текст запроса\n",
        "# Cчитаем все строки в таблице employers с помощью COUNT()\n",
        "query_3_2 = f'''SELECT COUNT(*)\n",
        "                FROM public.employers\n",
        "'''"
      ]
    },
    {
      "cell_type": "code",
      "execution_count": 7,
      "id": "jVL4eshKhdqc",
      "metadata": {
        "id": "jVL4eshKhdqc"
      },
      "outputs": [
        {
          "data": {
            "text/plain": [
              "'Всего работодателей: 23501'"
            ]
          },
          "metadata": {},
          "output_type": "display_data"
        }
      ],
      "source": [
        "# результат запроса\n",
        "employers_qty = pd.read_sql_query(query_3_2, connection) # Сохраняем результат запроса в переменную.\n",
        "display(f'Всего работодателей: {employers_qty.squeeze()}') # Выводим на экран с помощью f-строки."
      ]
    },
    {
      "cell_type": "markdown",
      "id": "a2bfff1f-c975-4bf6-84be-2185d79dcb76",
      "metadata": {
        "id": "a2bfff1f-c975-4bf6-84be-2185d79dcb76"
      },
      "source": [
        "3. Посчитате с помощью запроса количество регионов (таблица areas)."
      ]
    },
    {
      "cell_type": "code",
      "execution_count": 8,
      "id": "1m8QJwBYhey6",
      "metadata": {
        "id": "1m8QJwBYhey6"
      },
      "outputs": [],
      "source": [
        "# текст запроса\n",
        "# Cчитаем все строки в таблице areas с помощью COUNT()\n",
        "query_3_3 = f'''SELECT COUNT(*)\n",
        "                FROM public.areas\n",
        "'''"
      ]
    },
    {
      "cell_type": "code",
      "execution_count": 9,
      "id": "EZsn9tlfhe7f",
      "metadata": {
        "id": "EZsn9tlfhe7f"
      },
      "outputs": [
        {
          "data": {
            "text/plain": [
              "'Всего регионов: 1362'"
            ]
          },
          "metadata": {},
          "output_type": "display_data"
        }
      ],
      "source": [
        "# результат запроса\n",
        "areas_qty = pd.read_sql_query(query_3_3, connection) # Сохраняем результат запроса в переменную.\n",
        "display(f'Всего регионов: {areas_qty.squeeze()}') # Выводим на экран с помощью f-строки."
      ]
    },
    {
      "cell_type": "markdown",
      "id": "41bb59f3-53cc-4a67-a5bc-bedf573955e4",
      "metadata": {
        "id": "41bb59f3-53cc-4a67-a5bc-bedf573955e4"
      },
      "source": [
        "4. Посчитате с помощью запроса количество сфер деятельности в базе (таблица industries)."
      ]
    },
    {
      "cell_type": "code",
      "execution_count": 10,
      "id": "d286cf4c-707b-4cd2-9190-7ab3587d04a1",
      "metadata": {
        "id": "d286cf4c-707b-4cd2-9190-7ab3587d04a1"
      },
      "outputs": [],
      "source": [
        "# текст запроса\n",
        "# Cчитаем все строки в таблице industries с помощью COUNT()\n",
        "query_3_4 = f'''SELECT COUNT(*)\n",
        "                FROM public.industries\n",
        "'''"
      ]
    },
    {
      "cell_type": "code",
      "execution_count": 11,
      "id": "JYAaoZ4qhfzW",
      "metadata": {
        "id": "JYAaoZ4qhfzW"
      },
      "outputs": [
        {
          "data": {
            "text/plain": [
              "'Всего сфер деятельности: 294'"
            ]
          },
          "metadata": {},
          "output_type": "display_data"
        }
      ],
      "source": [
        "# результат запроса\n",
        "industries_qty = pd.read_sql_query(query_3_4, connection) # Сохраняем результат запроса в переменную.\n",
        "display(f'Всего сфер деятельности: {industries_qty.squeeze()}') # Выводим на экран с помощью f-строки."
      ]
    },
    {
      "cell_type": "markdown",
      "id": "9a8a2181-6914-448b-85f1-38f5f18b8a93",
      "metadata": {
        "id": "9a8a2181-6914-448b-85f1-38f5f18b8a93"
      },
      "source": [
        "***"
      ]
    },
    {
      "cell_type": "markdown",
      "id": "e457369e",
      "metadata": {},
      "source": [
        "**Выводы по предварительному анализу данных:**\n",
        "\n",
        "База данных довольно обширна. В ней представлены 49197 вакансий в 294 сферах деятельности от 23501 работодателя из 1362 регионов. "
      ]
    },
    {
      "cell_type": "markdown",
      "id": "8d62a9f3-f64e-4fe7-bdac-c4dffa16155e",
      "metadata": {
        "id": "8d62a9f3-f64e-4fe7-bdac-c4dffa16155e"
      },
      "source": [
        "# Юнит 4. Детальный анализ вакансий"
      ]
    },
    {
      "cell_type": "markdown",
      "id": "93053d3d-b284-481a-9cf7-012d7014c0e0",
      "metadata": {
        "id": "93053d3d-b284-481a-9cf7-012d7014c0e0"
      },
      "source": [
        "1. Напишите запрос, который позволит узнать, сколько (cnt) вакансий в каждом регионе (area).\n",
        "Отсортируйте по количеству вакансий в порядке убывания."
      ]
    },
    {
      "cell_type": "code",
      "execution_count": 12,
      "id": "3f069da6-fdc9-4ae7-b514-fafe2675efd3",
      "metadata": {
        "id": "3f069da6-fdc9-4ae7-b514-fafe2675efd3"
      },
      "outputs": [],
      "source": [
        "# текст запроса\n",
        "'''\n",
        "Выводим столбец с подсчётом вакансий с алиасом cnt и столбец с названием региона с алиасом area \n",
        "из таблицы vacancies, соединённой с помощью JOIN с таблицей areas. Группируем по Id региона, \n",
        "сортируем по количеству вакансий в порядке убывания. Для выполнения задания 4.1 нужно выбрать \n",
        "пятёрку регионов-лидеров по количеству вакансий, поэтому ограничиваем вывод 5ю записями с помощью LIMIT.\n",
        "'''\n",
        "\n",
        "query_4_1 = f'''SELECT \n",
        "                    COUNT(v.id) cnt, \n",
        "                    a.name area\n",
        "                FROM public.vacancies v\n",
        "                    JOIN public.areas a ON v.area_id=a.id\n",
        "                GROUP BY a.id\n",
        "                ORDER BY cnt DESC\n",
        "                LIMIT 5\n",
        "'''\n",
        "                "
      ]
    },
    {
      "cell_type": "code",
      "execution_count": 13,
      "id": "P7QL86hrjhRJ",
      "metadata": {
        "id": "P7QL86hrjhRJ"
      },
      "outputs": [
        {
          "data": {
            "text/html": [
              "<div>\n",
              "<style scoped>\n",
              "    .dataframe tbody tr th:only-of-type {\n",
              "        vertical-align: middle;\n",
              "    }\n",
              "\n",
              "    .dataframe tbody tr th {\n",
              "        vertical-align: top;\n",
              "    }\n",
              "\n",
              "    .dataframe thead th {\n",
              "        text-align: right;\n",
              "    }\n",
              "</style>\n",
              "<table border=\"1\" class=\"dataframe\">\n",
              "  <thead>\n",
              "    <tr style=\"text-align: right;\">\n",
              "      <th></th>\n",
              "      <th>cnt</th>\n",
              "      <th>area</th>\n",
              "    </tr>\n",
              "  </thead>\n",
              "  <tbody>\n",
              "    <tr>\n",
              "      <th>0</th>\n",
              "      <td>5333</td>\n",
              "      <td>Москва</td>\n",
              "    </tr>\n",
              "    <tr>\n",
              "      <th>1</th>\n",
              "      <td>2851</td>\n",
              "      <td>Санкт-Петербург</td>\n",
              "    </tr>\n",
              "    <tr>\n",
              "      <th>2</th>\n",
              "      <td>2112</td>\n",
              "      <td>Минск</td>\n",
              "    </tr>\n",
              "    <tr>\n",
              "      <th>3</th>\n",
              "      <td>2006</td>\n",
              "      <td>Новосибирск</td>\n",
              "    </tr>\n",
              "    <tr>\n",
              "      <th>4</th>\n",
              "      <td>1892</td>\n",
              "      <td>Алматы</td>\n",
              "    </tr>\n",
              "  </tbody>\n",
              "</table>\n",
              "</div>"
            ],
            "text/plain": [
              "    cnt             area\n",
              "0  5333           Москва\n",
              "1  2851  Санкт-Петербург\n",
              "2  2112            Минск\n",
              "3  2006      Новосибирск\n",
              "4  1892           Алматы"
            ]
          },
          "metadata": {},
          "output_type": "display_data"
        }
      ],
      "source": [
        "# результат запроса\n",
        "vac_in_area = pd.read_sql_query(query_4_1, connection) # Сохраняем результат запроса в переменную.\n",
        "display(vac_in_area) # Выводим на экран получившийся dataframe."
      ]
    },
    {
      "cell_type": "markdown",
      "id": "4266f0b6-1646-492a-88b4-2f6a46502135",
      "metadata": {
        "id": "4266f0b6-1646-492a-88b4-2f6a46502135"
      },
      "source": [
        "2. Напишите запрос, чтобы определить у какого количества вакансий заполнено хотя бы одно из двух полей с зарплатой."
      ]
    },
    {
      "cell_type": "code",
      "execution_count": 14,
      "id": "0c44b350-72eb-4d65-8b54-a1fc449ba9fd",
      "metadata": {
        "id": "0c44b350-72eb-4d65-8b54-a1fc449ba9fd"
      },
      "outputs": [],
      "source": [
        "# текст запроса\n",
        "# Подсчитываем все вакансии из таблицы vacancies, где поле salary_from не является NULL \n",
        "# или поле salary_to не является NULL.\n",
        "query_4_2 = f'''SELECT COUNT(*)\n",
        "                FROM public.vacancies\n",
        "                WHERE (salary_from IS NOT NULL) OR (salary_to IS NOT NULL)\n",
        "'''"
      ]
    },
    {
      "cell_type": "code",
      "execution_count": 15,
      "id": "rhvwaMDkoWTi",
      "metadata": {
        "id": "rhvwaMDkoWTi"
      },
      "outputs": [
        {
          "data": {
            "text/plain": [
              "'Количество вакансий, у которых заполнено хотя бы одно из двух полей зарплаты: 24073'"
            ]
          },
          "metadata": {},
          "output_type": "display_data"
        }
      ],
      "source": [
        "# результат запроса\n",
        "cnt_not_null = pd.read_sql_query(query_4_2, connection) # Сохраняем результат запроса в переменную.\n",
        "# Выводим на экран с помощью f-строки.\n",
        "display(f'Количество вакансий, у которых заполнено хотя бы одно из двух полей зарплаты: {cnt_not_null.squeeze()}')"
      ]
    },
    {
      "cell_type": "markdown",
      "id": "635c4d5d-f323-4c66-b428-50a088120aa0",
      "metadata": {
        "id": "635c4d5d-f323-4c66-b428-50a088120aa0"
      },
      "source": [
        "3. Найдите средние значения для нижней и верхней границы зарплатной вилки. Округлите значения до целого."
      ]
    },
    {
      "cell_type": "code",
      "execution_count": 16,
      "id": "603cdbe4-0ec3-4106-8eaf-c73fcdd29165",
      "metadata": {
        "id": "603cdbe4-0ec3-4106-8eaf-c73fcdd29165"
      },
      "outputs": [],
      "source": [
        "# текст запроса\n",
        "# Выбираем средние значения из поля salary_from и из поля salary_to таблицы vacancies \n",
        "# с помощью агрегатной функции AVG. \n",
        "query_4_3 = f'''SELECT \n",
        "                    AVG(salary_from) lower_b,\n",
        "                    AVG(salary_to) upper_b\n",
        "                FROM public.vacancies\n",
        "'''"
      ]
    },
    {
      "cell_type": "code",
      "execution_count": 17,
      "id": "pswpAb66ovZZ",
      "metadata": {
        "id": "pswpAb66ovZZ"
      },
      "outputs": [
        {
          "data": {
            "text/plain": [
              "'Среднее значение для нижней границы зарплатной вилки: 71065'"
            ]
          },
          "metadata": {},
          "output_type": "display_data"
        },
        {
          "data": {
            "text/plain": [
              "'Среднее значение для верхней границы зарплатной вилки: 110537'"
            ]
          },
          "metadata": {},
          "output_type": "display_data"
        }
      ],
      "source": [
        "# результат запроса\n",
        "lower_upper = pd.read_sql_query(query_4_3, connection) # сохраняем результат запроса в переменную.\n",
        "# Округляем среднее значение нижней границы с помощью функции round() и выводим на экран с помощью f-строки.\n",
        "display(f'Среднее значение для нижней границы зарплатной вилки: {round(lower_upper.iloc[0][0])}')\n",
        "# Округляем среднее значение верхней границы с помощью функции round() и выводим на экран с помощью f-строки.\n",
        "display(f'Среднее значение для верхней границы зарплатной вилки: {round(lower_upper.iloc[0][1])}')"
      ]
    },
    {
      "cell_type": "markdown",
      "id": "f3fdaec9-5fd3-4260-9cf5-1d7406b628a5",
      "metadata": {
        "id": "f3fdaec9-5fd3-4260-9cf5-1d7406b628a5"
      },
      "source": [
        "4. Напишите запрос, который выведет количество вакансий для каждого сочетания типа рабочего графика (schedule) и типа трудоустройства (employment), используемого в вакансиях. Результат отсортируйте по убыванию количества.\n"
      ]
    },
    {
      "cell_type": "code",
      "execution_count": 18,
      "id": "1ea710ec-871b-431e-9462-c7d0fd87011b",
      "metadata": {
        "id": "1ea710ec-871b-431e-9462-c7d0fd87011b"
      },
      "outputs": [],
      "source": [
        "# текст запроса\n",
        "\n",
        "# Выбираем из таблицы vacancies уникальные варианты графика и трудоустройства, подсчитываем вакансии с помощью COUNT(), \n",
        "# группируем по графику и трудоустройству с помощью метода GROUP BY, сортируем количество вакансий по убыванию.\n",
        "\n",
        "query_4_4 = f'''SELECT \n",
        "                    DISTINCT \n",
        "                        schedule,\n",
        "                        employment,\n",
        "                    COUNT(*)  \n",
        "                FROM public.vacancies\n",
        "                GROUP BY schedule, employment  \n",
        "                ORDER BY COUNT(*) DESC                 \n",
        "'''"
      ]
    },
    {
      "cell_type": "code",
      "execution_count": 19,
      "id": "lGUVqavdo4JQ",
      "metadata": {
        "id": "lGUVqavdo4JQ"
      },
      "outputs": [
        {
          "data": {
            "text/html": [
              "<div>\n",
              "<style scoped>\n",
              "    .dataframe tbody tr th:only-of-type {\n",
              "        vertical-align: middle;\n",
              "    }\n",
              "\n",
              "    .dataframe tbody tr th {\n",
              "        vertical-align: top;\n",
              "    }\n",
              "\n",
              "    .dataframe thead th {\n",
              "        text-align: right;\n",
              "    }\n",
              "</style>\n",
              "<table border=\"1\" class=\"dataframe\">\n",
              "  <thead>\n",
              "    <tr style=\"text-align: right;\">\n",
              "      <th></th>\n",
              "      <th>schedule</th>\n",
              "      <th>employment</th>\n",
              "      <th>count</th>\n",
              "    </tr>\n",
              "  </thead>\n",
              "  <tbody>\n",
              "    <tr>\n",
              "      <th>0</th>\n",
              "      <td>Полный день</td>\n",
              "      <td>Полная занятость</td>\n",
              "      <td>35367</td>\n",
              "    </tr>\n",
              "    <tr>\n",
              "      <th>1</th>\n",
              "      <td>Удаленная работа</td>\n",
              "      <td>Полная занятость</td>\n",
              "      <td>7802</td>\n",
              "    </tr>\n",
              "    <tr>\n",
              "      <th>2</th>\n",
              "      <td>Гибкий график</td>\n",
              "      <td>Полная занятость</td>\n",
              "      <td>1593</td>\n",
              "    </tr>\n",
              "    <tr>\n",
              "      <th>3</th>\n",
              "      <td>Удаленная работа</td>\n",
              "      <td>Частичная занятость</td>\n",
              "      <td>1312</td>\n",
              "    </tr>\n",
              "    <tr>\n",
              "      <th>4</th>\n",
              "      <td>Сменный график</td>\n",
              "      <td>Полная занятость</td>\n",
              "      <td>940</td>\n",
              "    </tr>\n",
              "    <tr>\n",
              "      <th>5</th>\n",
              "      <td>Полный день</td>\n",
              "      <td>Стажировка</td>\n",
              "      <td>569</td>\n",
              "    </tr>\n",
              "    <tr>\n",
              "      <th>6</th>\n",
              "      <td>Вахтовый метод</td>\n",
              "      <td>Полная занятость</td>\n",
              "      <td>367</td>\n",
              "    </tr>\n",
              "    <tr>\n",
              "      <th>7</th>\n",
              "      <td>Полный день</td>\n",
              "      <td>Частичная занятость</td>\n",
              "      <td>347</td>\n",
              "    </tr>\n",
              "    <tr>\n",
              "      <th>8</th>\n",
              "      <td>Гибкий график</td>\n",
              "      <td>Частичная занятость</td>\n",
              "      <td>312</td>\n",
              "    </tr>\n",
              "    <tr>\n",
              "      <th>9</th>\n",
              "      <td>Полный день</td>\n",
              "      <td>Проектная работа</td>\n",
              "      <td>141</td>\n",
              "    </tr>\n",
              "    <tr>\n",
              "      <th>10</th>\n",
              "      <td>Удаленная работа</td>\n",
              "      <td>Проектная работа</td>\n",
              "      <td>133</td>\n",
              "    </tr>\n",
              "    <tr>\n",
              "      <th>11</th>\n",
              "      <td>Гибкий график</td>\n",
              "      <td>Стажировка</td>\n",
              "      <td>116</td>\n",
              "    </tr>\n",
              "    <tr>\n",
              "      <th>12</th>\n",
              "      <td>Сменный график</td>\n",
              "      <td>Частичная занятость</td>\n",
              "      <td>101</td>\n",
              "    </tr>\n",
              "    <tr>\n",
              "      <th>13</th>\n",
              "      <td>Удаленная работа</td>\n",
              "      <td>Стажировка</td>\n",
              "      <td>64</td>\n",
              "    </tr>\n",
              "    <tr>\n",
              "      <th>14</th>\n",
              "      <td>Гибкий график</td>\n",
              "      <td>Проектная работа</td>\n",
              "      <td>18</td>\n",
              "    </tr>\n",
              "    <tr>\n",
              "      <th>15</th>\n",
              "      <td>Сменный график</td>\n",
              "      <td>Стажировка</td>\n",
              "      <td>12</td>\n",
              "    </tr>\n",
              "    <tr>\n",
              "      <th>16</th>\n",
              "      <td>Вахтовый метод</td>\n",
              "      <td>Проектная работа</td>\n",
              "      <td>2</td>\n",
              "    </tr>\n",
              "    <tr>\n",
              "      <th>17</th>\n",
              "      <td>Сменный график</td>\n",
              "      <td>Проектная работа</td>\n",
              "      <td>1</td>\n",
              "    </tr>\n",
              "  </tbody>\n",
              "</table>\n",
              "</div>"
            ],
            "text/plain": [
              "            schedule           employment  count\n",
              "0        Полный день     Полная занятость  35367\n",
              "1   Удаленная работа     Полная занятость   7802\n",
              "2      Гибкий график     Полная занятость   1593\n",
              "3   Удаленная работа  Частичная занятость   1312\n",
              "4     Сменный график     Полная занятость    940\n",
              "5        Полный день           Стажировка    569\n",
              "6     Вахтовый метод     Полная занятость    367\n",
              "7        Полный день  Частичная занятость    347\n",
              "8      Гибкий график  Частичная занятость    312\n",
              "9        Полный день     Проектная работа    141\n",
              "10  Удаленная работа     Проектная работа    133\n",
              "11     Гибкий график           Стажировка    116\n",
              "12    Сменный график  Частичная занятость    101\n",
              "13  Удаленная работа           Стажировка     64\n",
              "14     Гибкий график     Проектная работа     18\n",
              "15    Сменный график           Стажировка     12\n",
              "16    Вахтовый метод     Проектная работа      2\n",
              "17    Сменный график     Проектная работа      1"
            ]
          },
          "metadata": {},
          "output_type": "display_data"
        }
      ],
      "source": [
        "# результат запроса\n",
        "combinations = pd.read_sql_query(query_4_4, connection) # Сохраняем результат запроса в переменную.\n",
        "display(combinations)  # Выводим получившийся датафрейм из одной строки."
      ]
    },
    {
      "cell_type": "markdown",
      "id": "0136ffee-0ead-4a6b-b608-61d1c753a438",
      "metadata": {
        "id": "0136ffee-0ead-4a6b-b608-61d1c753a438"
      },
      "source": [
        "5. Напишите запрос, выводящий значения поля Требуемый опыт работы (experience) в порядке возрастания количества вакансий, в которых указан данный вариант опыта. "
      ]
    },
    {
      "cell_type": "code",
      "execution_count": 20,
      "id": "5b3a8e79-f7ab-4008-b767-12aea3a205ea",
      "metadata": {
        "id": "5b3a8e79-f7ab-4008-b767-12aea3a205ea"
      },
      "outputs": [],
      "source": [
        "# текст запроса\n",
        "# Выбираем поле experience из таблицы vacancies, считаем количетво вакансий для большей информативности, \n",
        "# группируем по варианту требуемого опыта с помощью GROUP BY, \n",
        "# сортируем по количеству вакансий, вычисленному с помощью метода COUNT().\n",
        "query_4_5 = f'''SELECT experience, COUNT(*)\n",
        "                FROM public.vacancies\n",
        "                GROUP BY experience\n",
        "                ORDER BY COUNT(*)\n",
        "'''"
      ]
    },
    {
      "cell_type": "code",
      "execution_count": 21,
      "id": "3Is64Y-hpDpq",
      "metadata": {
        "id": "3Is64Y-hpDpq"
      },
      "outputs": [
        {
          "data": {
            "text/html": [
              "<div>\n",
              "<style scoped>\n",
              "    .dataframe tbody tr th:only-of-type {\n",
              "        vertical-align: middle;\n",
              "    }\n",
              "\n",
              "    .dataframe tbody tr th {\n",
              "        vertical-align: top;\n",
              "    }\n",
              "\n",
              "    .dataframe thead th {\n",
              "        text-align: right;\n",
              "    }\n",
              "</style>\n",
              "<table border=\"1\" class=\"dataframe\">\n",
              "  <thead>\n",
              "    <tr style=\"text-align: right;\">\n",
              "      <th></th>\n",
              "      <th>experience</th>\n",
              "      <th>count</th>\n",
              "    </tr>\n",
              "  </thead>\n",
              "  <tbody>\n",
              "    <tr>\n",
              "      <th>0</th>\n",
              "      <td>Более 6 лет</td>\n",
              "      <td>1337</td>\n",
              "    </tr>\n",
              "    <tr>\n",
              "      <th>1</th>\n",
              "      <td>Нет опыта</td>\n",
              "      <td>7197</td>\n",
              "    </tr>\n",
              "    <tr>\n",
              "      <th>2</th>\n",
              "      <td>От 3 до 6 лет</td>\n",
              "      <td>14511</td>\n",
              "    </tr>\n",
              "    <tr>\n",
              "      <th>3</th>\n",
              "      <td>От 1 года до 3 лет</td>\n",
              "      <td>26152</td>\n",
              "    </tr>\n",
              "  </tbody>\n",
              "</table>\n",
              "</div>"
            ],
            "text/plain": [
              "           experience  count\n",
              "0         Более 6 лет   1337\n",
              "1           Нет опыта   7197\n",
              "2       От 3 до 6 лет  14511\n",
              "3  От 1 года до 3 лет  26152"
            ]
          },
          "metadata": {},
          "output_type": "display_data"
        }
      ],
      "source": [
        "# результат запроса\n",
        "experience_ordered = pd.read_sql_query(query_4_5, connection) # Сохраняем результат запроса в переменную.\n",
        "display(experience_ordered) # выводим на экран результирующий датафрейм."
      ]
    },
    {
      "cell_type": "markdown",
      "id": "oq2b7n1QpIka",
      "metadata": {
        "id": "oq2b7n1QpIka"
      },
      "source": [
        "***"
      ]
    },
    {
      "cell_type": "markdown",
      "id": "51a82387",
      "metadata": {},
      "source": [
        "**Выводы по детальному анализу вакансий:**\n",
        "\n",
        "1. Вакансии представлены не только работодателями из России, но и из других стран.  Среди лидеров по количеству вакансий мы видим как российские крупные города (Москва, Санкт-Петербург, Новосибирск), так и Минск (Беларусь) и Алматы (Казахстан). \n",
        "\n",
        "2. Около половины работодателей не заполнили ни одно из значений заработной платы.\n",
        "\n",
        "3. В представленных вакансиях предлагаемая заработная плата колеблется в среднем от 71065 до 110537 рублей.\n",
        "\n",
        "4. Наиболее популярный вариант сочетания графика и занятости - \"Полный день - Полная занятость\"\t- более 35 тысяч вакансий именно с таким сочетанием. На втором месте - \"Удалённая работа - Полная занятость\" - почти 8 тысяч вакансий. Остальные варианты намного встречаются намного реже. \n",
        "\n",
        "5. Более половины работодателей указывает требуемый опыт от 1 года до 3 лет. Реже от 3 до 6 лет. Наименее популярный вариант - более 6 лет. "
      ]
    },
    {
      "cell_type": "markdown",
      "id": "7ea20ab6-04a7-40a0-adec-443a0e5a42c3",
      "metadata": {
        "id": "7ea20ab6-04a7-40a0-adec-443a0e5a42c3"
      },
      "source": [
        "# Юнит 5. Анализ работодателей"
      ]
    },
    {
      "cell_type": "markdown",
      "id": "968aed80-74ef-4ffb-b5bf-c65b84e9caea",
      "metadata": {
        "id": "968aed80-74ef-4ffb-b5bf-c65b84e9caea"
      },
      "source": [
        "1. Напишите запрос, который позволит узнать, какие работодатели находятся на первом и пятом месте по количеству вакансий."
      ]
    },
    {
      "cell_type": "code",
      "execution_count": 22,
      "id": "f2d62796-d400-4ec1-a675-88112739a50e",
      "metadata": {
        "id": "f2d62796-d400-4ec1-a675-88112739a50e"
      },
      "outputs": [],
      "source": [
        "# текст запроса\n",
        "'''\n",
        "Выбираем название работодателя из таблицы employers, соединённой с помощью JOIN с таблицей vacancies \n",
        "по Id работодателя, подсчитываем вакансии с помощью метода COUNT() (это необязательно, но делает выборку \n",
        "более информативной), группируем по id работодателя, сортируем по количеству вакансий в порядке убывания. \n",
        "Оставляем первые 5 записей, ограничив вывод с помощью LIMIT.\n",
        "'''\n",
        "\n",
        "query_5_1 = f'''SELECT \n",
        "                    e.name, \n",
        "                    COUNT(v.id)\n",
        "                FROM public.employers e\n",
        "                    JOIN public.vacancies v ON e.id=v.employer_id\n",
        "                GROUP BY e.id\n",
        "                ORDER BY COUNT(v.id) DESC\n",
        "                LIMIT 5\n",
        "'''"
      ]
    },
    {
      "cell_type": "code",
      "execution_count": 23,
      "id": "64tOMkAxqkQk",
      "metadata": {
        "id": "64tOMkAxqkQk"
      },
      "outputs": [
        {
          "data": {
            "text/html": [
              "<div>\n",
              "<style scoped>\n",
              "    .dataframe tbody tr th:only-of-type {\n",
              "        vertical-align: middle;\n",
              "    }\n",
              "\n",
              "    .dataframe tbody tr th {\n",
              "        vertical-align: top;\n",
              "    }\n",
              "\n",
              "    .dataframe thead th {\n",
              "        text-align: right;\n",
              "    }\n",
              "</style>\n",
              "<table border=\"1\" class=\"dataframe\">\n",
              "  <thead>\n",
              "    <tr style=\"text-align: right;\">\n",
              "      <th></th>\n",
              "      <th>name</th>\n",
              "      <th>count</th>\n",
              "    </tr>\n",
              "  </thead>\n",
              "  <tbody>\n",
              "    <tr>\n",
              "      <th>0</th>\n",
              "      <td>Яндекс</td>\n",
              "      <td>1933</td>\n",
              "    </tr>\n",
              "    <tr>\n",
              "      <th>1</th>\n",
              "      <td>Ростелеком</td>\n",
              "      <td>491</td>\n",
              "    </tr>\n",
              "    <tr>\n",
              "      <th>2</th>\n",
              "      <td>Тинькофф</td>\n",
              "      <td>444</td>\n",
              "    </tr>\n",
              "    <tr>\n",
              "      <th>3</th>\n",
              "      <td>СБЕР</td>\n",
              "      <td>428</td>\n",
              "    </tr>\n",
              "    <tr>\n",
              "      <th>4</th>\n",
              "      <td>Газпром нефть</td>\n",
              "      <td>331</td>\n",
              "    </tr>\n",
              "  </tbody>\n",
              "</table>\n",
              "</div>"
            ],
            "text/plain": [
              "            name  count\n",
              "0         Яндекс   1933\n",
              "1     Ростелеком    491\n",
              "2       Тинькофф    444\n",
              "3           СБЕР    428\n",
              "4  Газпром нефть    331"
            ]
          },
          "metadata": {},
          "output_type": "display_data"
        },
        {
          "data": {
            "text/plain": [
              "'На первом месте работодатель Яндекс, на пятом месте - Газпром нефть'"
            ]
          },
          "metadata": {},
          "output_type": "display_data"
        }
      ],
      "source": [
        "# результат запроса\n",
        "empl_1_5 = pd.read_sql_query(query_5_1, connection) # Сохраняем результаты запроса в переменную.\n",
        "display(empl_1_5) # выводим на экран получившийся датафрейм.\n",
        "# Выводим с помощью f-строки и метода iloc информацию о работодателях из 1-й и 5-й строк.\n",
        "display(f'На первом месте работодатель {empl_1_5.iloc[0][0]}, на пятом месте - {empl_1_5.iloc[4][0]}')"
      ]
    },
    {
      "cell_type": "markdown",
      "id": "68377cfc-b378-43dc-ab7d-1195abf2c515",
      "metadata": {
        "id": "68377cfc-b378-43dc-ab7d-1195abf2c515"
      },
      "source": [
        "2. Напишите запрос, который для каждого региона выведет количество работодателей и вакансий в нём.\n",
        "Среди регионов, в которых нет вакансий, найдите тот, в котором наибольшее количество работодателей.\n"
      ]
    },
    {
      "cell_type": "code",
      "execution_count": 24,
      "id": "dd7df27a-e3e8-412e-a21a-5d389b71e891",
      "metadata": {
        "id": "dd7df27a-e3e8-412e-a21a-5d389b71e891"
      },
      "outputs": [],
      "source": [
        "# текст запроса\n",
        "''' Соединяем с помощью LEFT JOIN таблицы areas, employers и vacancies по id региона. Группируем по id региона. \n",
        "Выбираем название региона, подсчитываем количество работодателей и количество вакансий с помощью метода COUNT(). \n",
        "Сортируем выборку по количеству вакансий по возрастанию и по количеству работодателей по убыванию.\n",
        "'''\n",
        "\n",
        "query_5_2 = f'''SELECT \n",
        "                    a.name area,\n",
        "                    COUNT(e.id) empl_qty,\n",
        "                    COUNT(v.id) vac_qty\n",
        "                FROM public.areas a\n",
        "                    LEFT JOIN public.employers e ON a.id=e.area\n",
        "                    LEFT JOIN public.vacancies v ON a.id=v.area_id\n",
        "                GROUP BY a.id\n",
        "                ORDER BY vac_qty, empl_qty DESC\n",
        "'''"
      ]
    },
    {
      "cell_type": "code",
      "execution_count": 25,
      "id": "x1ikWbydrbf6",
      "metadata": {
        "id": "x1ikWbydrbf6"
      },
      "outputs": [
        {
          "data": {
            "text/html": [
              "<div>\n",
              "<style scoped>\n",
              "    .dataframe tbody tr th:only-of-type {\n",
              "        vertical-align: middle;\n",
              "    }\n",
              "\n",
              "    .dataframe tbody tr th {\n",
              "        vertical-align: top;\n",
              "    }\n",
              "\n",
              "    .dataframe thead th {\n",
              "        text-align: right;\n",
              "    }\n",
              "</style>\n",
              "<table border=\"1\" class=\"dataframe\">\n",
              "  <thead>\n",
              "    <tr style=\"text-align: right;\">\n",
              "      <th></th>\n",
              "      <th>area</th>\n",
              "      <th>empl_qty</th>\n",
              "      <th>vac_qty</th>\n",
              "    </tr>\n",
              "  </thead>\n",
              "  <tbody>\n",
              "    <tr>\n",
              "      <th>0</th>\n",
              "      <td>Россия</td>\n",
              "      <td>410</td>\n",
              "      <td>0</td>\n",
              "    </tr>\n",
              "    <tr>\n",
              "      <th>1</th>\n",
              "      <td>Казахстан</td>\n",
              "      <td>207</td>\n",
              "      <td>0</td>\n",
              "    </tr>\n",
              "    <tr>\n",
              "      <th>2</th>\n",
              "      <td>Московская область</td>\n",
              "      <td>75</td>\n",
              "      <td>0</td>\n",
              "    </tr>\n",
              "    <tr>\n",
              "      <th>3</th>\n",
              "      <td>Краснодарский край</td>\n",
              "      <td>19</td>\n",
              "      <td>0</td>\n",
              "    </tr>\n",
              "    <tr>\n",
              "      <th>4</th>\n",
              "      <td>Беларусь</td>\n",
              "      <td>18</td>\n",
              "      <td>0</td>\n",
              "    </tr>\n",
              "    <tr>\n",
              "      <th>...</th>\n",
              "      <td>...</td>\n",
              "      <td>...</td>\n",
              "      <td>...</td>\n",
              "    </tr>\n",
              "    <tr>\n",
              "      <th>1357</th>\n",
              "      <td>Новосибирск</td>\n",
              "      <td>1149438</td>\n",
              "      <td>1149438</td>\n",
              "    </tr>\n",
              "    <tr>\n",
              "      <th>1358</th>\n",
              "      <td>Алматы</td>\n",
              "      <td>1364132</td>\n",
              "      <td>1364132</td>\n",
              "    </tr>\n",
              "    <tr>\n",
              "      <th>1359</th>\n",
              "      <td>Минск</td>\n",
              "      <td>2354880</td>\n",
              "      <td>2354880</td>\n",
              "    </tr>\n",
              "    <tr>\n",
              "      <th>1360</th>\n",
              "      <td>Санкт-Петербург</td>\n",
              "      <td>6320667</td>\n",
              "      <td>6320667</td>\n",
              "    </tr>\n",
              "    <tr>\n",
              "      <th>1361</th>\n",
              "      <td>Москва</td>\n",
              "      <td>31272712</td>\n",
              "      <td>31272712</td>\n",
              "    </tr>\n",
              "  </tbody>\n",
              "</table>\n",
              "<p>1362 rows × 3 columns</p>\n",
              "</div>"
            ],
            "text/plain": [
              "                    area  empl_qty   vac_qty\n",
              "0                 Россия       410         0\n",
              "1              Казахстан       207         0\n",
              "2     Московская область        75         0\n",
              "3     Краснодарский край        19         0\n",
              "4               Беларусь        18         0\n",
              "...                  ...       ...       ...\n",
              "1357         Новосибирск   1149438   1149438\n",
              "1358              Алматы   1364132   1364132\n",
              "1359               Минск   2354880   2354880\n",
              "1360     Санкт-Петербург   6320667   6320667\n",
              "1361              Москва  31272712  31272712\n",
              "\n",
              "[1362 rows x 3 columns]"
            ]
          },
          "metadata": {},
          "output_type": "display_data"
        },
        {
          "data": {
            "text/plain": [
              "'Регион, в котором нет вакансий и наибольшее количество работодателей: Россия'"
            ]
          },
          "metadata": {},
          "output_type": "display_data"
        }
      ],
      "source": [
        "# результат запроса\n",
        "area_empl_vac = pd.read_sql_query(query_5_2, connection) # Сохраняем результаты запроса в переменную.\n",
        "display(area_empl_vac) # выводим на экран результирующий датафрейм.\n",
        "# Выводим на экран название региона из первой строки с помощью f-строки и метода iloc.\n",
        "display(f'Регион, в котором нет вакансий и наибольшее количество работодателей: {area_empl_vac.iloc[0][0]}')"
      ]
    },
    {
      "cell_type": "markdown",
      "id": "f2fe0acb-ab1a-4e15-9326-2560e22d73c1",
      "metadata": {
        "id": "f2fe0acb-ab1a-4e15-9326-2560e22d73c1"
      },
      "source": [
        "3. Для каждого работодателя посчитайте количество регионов, в которых он публикует свои вакансии. Отсортируйте результат по убыванию количества.\n"
      ]
    },
    {
      "cell_type": "code",
      "execution_count": 26,
      "id": "6271f8ad-bd2e-4196-ae4a-5b39c4c1010e",
      "metadata": {
        "id": "6271f8ad-bd2e-4196-ae4a-5b39c4c1010e"
      },
      "outputs": [],
      "source": [
        "# текст запроса\n",
        "''' \n",
        "Присваеваем таблице employers алиас е, соединяем с ней с помощью LEFT JOIN таблицу vacancies с алиасом v \n",
        "по id работодателя. Выводим название работодателя количество уникальных регионов с помощью методов COUNT() и DISTINCT. \n",
        "Группируем по id работодателя, сортируем по количеству регионов по убыванию.\n",
        "'''\n",
        "\n",
        "query_5_3 = f'''SELECT\n",
        "                    e.name employer,\n",
        "                    COUNT(DISTINCT v.area_id) area_qty\n",
        "                FROM public.employers e\n",
        "                    LEFT JOIN public.vacancies v ON e.id=v.employer_id\n",
        "                GROUP BY e.id\n",
        "                ORDER BY area_qty DESC\n",
        "'''"
      ]
    },
    {
      "cell_type": "code",
      "execution_count": 27,
      "id": "1EIvX3HasH4F",
      "metadata": {
        "id": "1EIvX3HasH4F"
      },
      "outputs": [
        {
          "data": {
            "text/html": [
              "<div>\n",
              "<style scoped>\n",
              "    .dataframe tbody tr th:only-of-type {\n",
              "        vertical-align: middle;\n",
              "    }\n",
              "\n",
              "    .dataframe tbody tr th {\n",
              "        vertical-align: top;\n",
              "    }\n",
              "\n",
              "    .dataframe thead th {\n",
              "        text-align: right;\n",
              "    }\n",
              "</style>\n",
              "<table border=\"1\" class=\"dataframe\">\n",
              "  <thead>\n",
              "    <tr style=\"text-align: right;\">\n",
              "      <th></th>\n",
              "      <th>employer</th>\n",
              "      <th>area_qty</th>\n",
              "    </tr>\n",
              "  </thead>\n",
              "  <tbody>\n",
              "    <tr>\n",
              "      <th>0</th>\n",
              "      <td>Яндекс</td>\n",
              "      <td>181</td>\n",
              "    </tr>\n",
              "    <tr>\n",
              "      <th>1</th>\n",
              "      <td>Ростелеком</td>\n",
              "      <td>152</td>\n",
              "    </tr>\n",
              "    <tr>\n",
              "      <th>2</th>\n",
              "      <td>Спецремонт</td>\n",
              "      <td>116</td>\n",
              "    </tr>\n",
              "    <tr>\n",
              "      <th>3</th>\n",
              "      <td>Поляков Денис Иванович</td>\n",
              "      <td>88</td>\n",
              "    </tr>\n",
              "    <tr>\n",
              "      <th>4</th>\n",
              "      <td>ООО ЕФИН</td>\n",
              "      <td>71</td>\n",
              "    </tr>\n",
              "    <tr>\n",
              "      <th>...</th>\n",
              "      <td>...</td>\n",
              "      <td>...</td>\n",
              "    </tr>\n",
              "    <tr>\n",
              "      <th>23496</th>\n",
              "      <td>Но Смокинг</td>\n",
              "      <td>0</td>\n",
              "    </tr>\n",
              "    <tr>\n",
              "      <th>23497</th>\n",
              "      <td>МАСТЕРСКАЯ CREED</td>\n",
              "      <td>0</td>\n",
              "    </tr>\n",
              "    <tr>\n",
              "      <th>23498</th>\n",
              "      <td>Dzing Finance</td>\n",
              "      <td>0</td>\n",
              "    </tr>\n",
              "    <tr>\n",
              "      <th>23499</th>\n",
              "      <td>КОРС</td>\n",
              "      <td>0</td>\n",
              "    </tr>\n",
              "    <tr>\n",
              "      <th>23500</th>\n",
              "      <td>Наука-Связь</td>\n",
              "      <td>0</td>\n",
              "    </tr>\n",
              "  </tbody>\n",
              "</table>\n",
              "<p>23501 rows × 2 columns</p>\n",
              "</div>"
            ],
            "text/plain": [
              "                     employer  area_qty\n",
              "0                      Яндекс       181\n",
              "1                  Ростелеком       152\n",
              "2                  Спецремонт       116\n",
              "3      Поляков Денис Иванович        88\n",
              "4                   ООО ЕФИН         71\n",
              "...                       ...       ...\n",
              "23496              Но Смокинг         0\n",
              "23497        МАСТЕРСКАЯ CREED         0\n",
              "23498           Dzing Finance         0\n",
              "23499                    КОРС         0\n",
              "23500             Наука-Связь         0\n",
              "\n",
              "[23501 rows x 2 columns]"
            ]
          },
          "metadata": {},
          "output_type": "display_data"
        },
        {
          "data": {
            "text/plain": [
              "'Максимальное количество регионов: 181 (работодатель Яндекс)'"
            ]
          },
          "metadata": {},
          "output_type": "display_data"
        }
      ],
      "source": [
        "# результат запроса\n",
        "empl_areas = pd.read_sql_query(query_5_3, connection) # сохраняем результат запроса в переменную.\n",
        "display(empl_areas) # Выводим на экран получившийся датафрейм.\n",
        "# С помощью f-строки и метода iloc выводим максимальное количество регионов из 1-й строки и название работодателя.\n",
        "display(f'Максимальное количество регионов: {empl_areas.iloc[0][1]} (работодатель {empl_areas.iloc[0][0]})')\n"
      ]
    },
    {
      "cell_type": "markdown",
      "id": "eab2206d-d95b-468b-8e5f-34381abf0ce7",
      "metadata": {
        "id": "eab2206d-d95b-468b-8e5f-34381abf0ce7"
      },
      "source": [
        "4. Напишите запрос для подсчёта количества работодателей, у которых не указана сфера деятельности. "
      ]
    },
    {
      "cell_type": "code",
      "execution_count": 28,
      "id": "80defb23-bfb1-4a18-8be6-bf36aa7165d5",
      "metadata": {
        "id": "80defb23-bfb1-4a18-8be6-bf36aa7165d5"
      },
      "outputs": [],
      "source": [
        "# текст запроса\n",
        "# Соединяем таблицы employers и employers_industries с помощью LEFT JOIN и считаем id работодателей, \n",
        "# которые оказались пустыми в таблице employers_industries после соединения.\n",
        "query_5_4 = f'''SELECT COUNT(e.id)\n",
        "                FROM public.employers e\n",
        "                    LEFT JOIN public.employers_industries e_i ON e.id=e_i.employer_id\n",
        "                WHERE e_i.employer_id IS NULL\n",
        "'''                "
      ]
    },
    {
      "cell_type": "code",
      "execution_count": 29,
      "id": "Dp_yCx6ysQSu",
      "metadata": {
        "id": "Dp_yCx6ysQSu"
      },
      "outputs": [
        {
          "data": {
            "text/plain": [
              "'Количество работодателей, у которых не указана сфера деятельности: 8419'"
            ]
          },
          "metadata": {},
          "output_type": "display_data"
        }
      ],
      "source": [
        "# результат запроса\n",
        "empl_ind = pd.read_sql_query(query_5_4, connection) # сохраняем результат запроса в переменную.\n",
        "# выводим на экран результат с помощью f-строки и метода squeeze().\n",
        "display(f'Количество работодателей, у которых не указана сфера деятельности: {empl_ind.squeeze()}')"
      ]
    },
    {
      "cell_type": "markdown",
      "id": "0112af31-f6b0-4e3b-82ab-71296e752e5e",
      "metadata": {
        "id": "0112af31-f6b0-4e3b-82ab-71296e752e5e"
      },
      "source": [
        "5. Напишите запрос, чтобы узнать название компании, находящейся на третьем месте в алфавитном списке (по названию) компаний, у которых указано четыре сферы деятельности. "
      ]
    },
    {
      "cell_type": "code",
      "execution_count": 30,
      "id": "973b0cfc-a972-470a-8b4a-68744ef220c4",
      "metadata": {
        "id": "973b0cfc-a972-470a-8b4a-68744ef220c4"
      },
      "outputs": [],
      "source": [
        "# текст запроса\n",
        "'''\n",
        "Выбираем название работодателя из таблицы работодателей employers (алиас е), соединённой с помощью JOIN с \n",
        "таблицей emloyers_industries (алиас e_i). Группируем по работодателю, ставим условие, что количество указанных \n",
        "сфер деятельности равно 4, сортируем по названию компании в алфавитном порядке, с помощью OFFSET отсекаем \n",
        "сверху 2 записи и оставляем только компанию, которая на 3ем месте с помощью LIMIT\n",
        "'''\n",
        "\n",
        "query_5_5 = f'''SELECT e.name\n",
        "                FROM \n",
        "                    public.employers e\n",
        "                    JOIN public.employers_industries e_i ON e.id = e_i.employer_id\n",
        "                GROUP BY e.id\n",
        "                HAVING COUNT(e_i.industry_id) = 4\n",
        "                ORDER BY e.name\n",
        "                OFFSET 2\n",
        "                LIMIT 1\n",
        "'''"
      ]
    },
    {
      "cell_type": "code",
      "execution_count": 31,
      "id": "xsPtpp8EsaED",
      "metadata": {
        "id": "xsPtpp8EsaED"
      },
      "outputs": [
        {
          "data": {
            "text/plain": [
              "'На 3-ем месте в алфавитном списке компаний, у которых указано 4 сферы деятельности, компания 2ГИС'"
            ]
          },
          "metadata": {},
          "output_type": "display_data"
        }
      ],
      "source": [
        "# результат запроса\n",
        "# Результат запроса сохраняем в переменную emps_4_ind.\n",
        "emps_4_ind = pd.read_sql_query(query_5_5, connection)\n",
        "# Выводим на экран результат с помощью f-строки и метода squeeze.\n",
        "display(\n",
        "    f'На 3-ем месте в алфавитном списке компаний, у которых указано 4 сферы деятельности, компания {emps_4_ind.squeeze()}')"
      ]
    },
    {
      "cell_type": "markdown",
      "id": "a8b584c6",
      "metadata": {},
      "source": [
        "***ДОПОЛНИТЕЛЬНОЕ ИССЛЕДОВАНИЕ***\n",
        "\n",
        "Этот пункт я хотела бы дополнить датафреймом с количеством указанных сфер деятельности для каждого работодателя, а также графиком распределения числа работодателей по количеству указанных ими вакансий."
      ]
    },
    {
      "cell_type": "code",
      "execution_count": 32,
      "id": "f874e579",
      "metadata": {},
      "outputs": [
        {
          "data": {
            "text/html": [
              "<div>\n",
              "<style scoped>\n",
              "    .dataframe tbody tr th:only-of-type {\n",
              "        vertical-align: middle;\n",
              "    }\n",
              "\n",
              "    .dataframe tbody tr th {\n",
              "        vertical-align: top;\n",
              "    }\n",
              "\n",
              "    .dataframe thead th {\n",
              "        text-align: right;\n",
              "    }\n",
              "</style>\n",
              "<table border=\"1\" class=\"dataframe\">\n",
              "  <thead>\n",
              "    <tr style=\"text-align: right;\">\n",
              "      <th></th>\n",
              "      <th>employer</th>\n",
              "      <th>industries_qty</th>\n",
              "    </tr>\n",
              "  </thead>\n",
              "  <tbody>\n",
              "    <tr>\n",
              "      <th>0</th>\n",
              "      <td>169</td>\n",
              "      <td>5</td>\n",
              "    </tr>\n",
              "    <tr>\n",
              "      <th>1</th>\n",
              "      <td>1AK-GROUP</td>\n",
              "      <td>5</td>\n",
              "    </tr>\n",
              "    <tr>\n",
              "      <th>2</th>\n",
              "      <td>1GHS</td>\n",
              "      <td>5</td>\n",
              "    </tr>\n",
              "    <tr>\n",
              "      <th>3</th>\n",
              "      <td>1MARKA</td>\n",
              "      <td>5</td>\n",
              "    </tr>\n",
              "    <tr>\n",
              "      <th>4</th>\n",
              "      <td>1 Московская Зеркальная фабрика</td>\n",
              "      <td>5</td>\n",
              "    </tr>\n",
              "    <tr>\n",
              "      <th>...</th>\n",
              "      <td>...</td>\n",
              "      <td>...</td>\n",
              "    </tr>\n",
              "    <tr>\n",
              "      <th>23496</th>\n",
              "      <td>Ярославский завод упаковочных материалов</td>\n",
              "      <td>0</td>\n",
              "    </tr>\n",
              "    <tr>\n",
              "      <th>23497</th>\n",
              "      <td>Ярославский филиал ПГУПС</td>\n",
              "      <td>0</td>\n",
              "    </tr>\n",
              "    <tr>\n",
              "      <th>23498</th>\n",
              "      <td>Ярославский ЦГМС - филиал ФГБУ Центральное УГМС</td>\n",
              "      <td>0</td>\n",
              "    </tr>\n",
              "    <tr>\n",
              "      <th>23499</th>\n",
              "      <td>Ярпож Казань</td>\n",
              "      <td>0</td>\n",
              "    </tr>\n",
              "    <tr>\n",
              "      <th>23500</th>\n",
              "      <td>Яшнова Алена Викторовна</td>\n",
              "      <td>0</td>\n",
              "    </tr>\n",
              "  </tbody>\n",
              "</table>\n",
              "<p>23501 rows × 2 columns</p>\n",
              "</div>"
            ],
            "text/plain": [
              "                                              employer  industries_qty\n",
              "0                                                  169               5\n",
              "1                                            1AK-GROUP               5\n",
              "2                                                 1GHS               5\n",
              "3                                               1MARKA               5\n",
              "4                      1 Московская Зеркальная фабрика               5\n",
              "...                                                ...             ...\n",
              "23496         Ярославский завод упаковочных материалов               0\n",
              "23497                         Ярославский филиал ПГУПС               0\n",
              "23498  Ярославский ЦГМС - филиал ФГБУ Центральное УГМС               0\n",
              "23499                                     Ярпож Казань               0\n",
              "23500                          Яшнова Алена Викторовна               0\n",
              "\n",
              "[23501 rows x 2 columns]"
            ]
          },
          "metadata": {},
          "output_type": "display_data"
        }
      ],
      "source": [
        "'''\n",
        "Соединяем таблицу  работодателей employers (алиас е) с таблицей emloyers_industries (алиас e_i) \n",
        "с помощью LEFT JOIN по id работодателя. Выбираем название работодателя (алиас employer) и количество сфер \n",
        "деятельности (алиас industries_qty). Группируем по работодателю, сортируем по количеству указанных сфер \n",
        "деятельности в порядке убывания и по названию компании в алфавитном порядке. \n",
        "'''\n",
        "\n",
        "query_5_5_1 = f'''SELECT \n",
        "                    e.name employer,\n",
        "                    COUNT(e_i.industry_id) industries_qty\n",
        "                FROM \n",
        "                    public.employers e\n",
        "                    LEFT JOIN public.employers_industries e_i ON e.id = e_i.employer_id\n",
        "                GROUP BY e.id\n",
        "                ORDER BY industries_qty DESC, employer\n",
        "                             \n",
        "'''\n",
        "\n",
        "# Cохраняем результат запроса в переменную empl_qty_ind.\n",
        "empl_qty_ind = pd.read_sql_query(query_5_5_1, connection)\n",
        "# Выводим на экран получившийся датафрейм.\n",
        "display(empl_qty_ind)\n"
      ]
    },
    {
      "cell_type": "code",
      "execution_count": 33,
      "id": "904dcce3",
      "metadata": {},
      "outputs": [
        {
          "data": {
            "text/plain": [
              "'Среднее значение количества указанных сфер деятельности работодателей: 1.4'"
            ]
          },
          "metadata": {},
          "output_type": "display_data"
        },
        {
          "data": {
            "image/png": "[encoded data removed]",
            "text/plain": [
              "<Figure size 800x400 with 1 Axes>"
            ]
          },
          "metadata": {},
          "output_type": "display_data"
        }
      ],
      "source": [
        "# Создаём координатную плоскость. \n",
        "fig, ax = plt.subplots(1, 1, figsize=(8, 4))\n",
        "# сохраняем в переменную qty столбец с количеством указанных сфер деятельности.\n",
        "qty = empl_qty_ind['industries_qty']\n",
        "# Строим гистограмму распределения работодателей по количеству указанных ими сфер деятельности.\n",
        "histplot = sns.histplot(qty, bins=20, ax=ax)\n",
        "# Добавляем линию среднего арифметического. \n",
        "histplot.axvline(qty.mean(), color='k', lw=2)\n",
        "# Создаём название графика.\n",
        "histplot.set_title('Распределение работодателей по количеству указанных сфер деятельности');\n",
        "\n",
        "\n",
        "# Выводим на экран сренее значение, округлённое до десятых.\n",
        "display(f'Среднее значение количества указанных сфер деятельности работодателей: {round(qty.mean(), 1)}')\n"
      ]
    },
    {
      "cell_type": "markdown",
      "id": "3bfcfdaf-755d-4d2b-8ed8-326201dc07ab",
      "metadata": {
        "id": "3bfcfdaf-755d-4d2b-8ed8-326201dc07ab"
      },
      "source": [
        "6. С помощью запроса выясните, у какого количества работодателей в качестве сферы деятельности указана Разработка программного обеспечения.\n"
      ]
    },
    {
      "cell_type": "code",
      "execution_count": 34,
      "id": "ad3f270f-2991-47eb-929b-e8f88a55b0d1",
      "metadata": {
        "id": "ad3f270f-2991-47eb-929b-e8f88a55b0d1"
      },
      "outputs": [],
      "source": [
        "# текст запроса\n",
        "'''\n",
        "Таблицу employers соединяем с таблицей employers_industries с помощью JOIN (INNER JOIN) и присоединяем к \n",
        "таблице industries с помощью RIGHT JOIN с условием, что название сферы деятельности \"Разработка программного \n",
        "обеспечения\". Группируем по названию сферы деятельности и считаем количество id работодателей с помощью COUNT().\n",
        "'''\n",
        "\n",
        "query_5_6 = f'''SELECT\n",
        "                    COUNT(e.id)\n",
        "                FROM public.employers e\n",
        "                    JOIN public.employers_industries e_i ON e.id=e_i.employer_id\n",
        "                    RIGHT JOIN public.industries i ON e_i.industry_id=i.id\n",
        "                WHERE i.name = 'Разработка программного обеспечения'\n",
        "                GROUP BY i.name\n",
        "                \n",
        "'''                    "
      ]
    },
    {
      "cell_type": "code",
      "execution_count": 35,
      "id": "H72qxWM0shPR",
      "metadata": {
        "id": "H72qxWM0shPR"
      },
      "outputs": [
        {
          "data": {
            "text/plain": [
              "'У 3553 работодателей в качестве сферы деятельности указана Разработка программного обеспечения'"
            ]
          },
          "metadata": {},
          "output_type": "display_data"
        }
      ],
      "source": [
        "# результат запроса\n",
        "develop_empl_qty = pd.read_sql_query(query_5_6, connection) # сохраняем результат запроса в переменную.\n",
        "# Выводим результат на экран с помощью f-строки и метода squeeze().\n",
        "display(f'У {\n",
        "    develop_empl_qty.squeeze()} работодателей в качестве сферы деятельности указана Разработка программного обеспечения')"
      ]
    },
    {
      "cell_type": "markdown",
      "id": "7b02bb86-0546-40fb-94a4-242f050a5c57",
      "metadata": {
        "id": "7b02bb86-0546-40fb-94a4-242f050a5c57"
      },
      "source": [
        "7. Для компании «Яндекс» выведите список регионов-миллионников, в которых представлены вакансии компании, вместе с количеством вакансий в этих регионах. Также добавьте строку Total с общим количеством вакансий компании. Результат отсортируйте по возрастанию количества.\n",
        "\n",
        "Список городов-милионников надо взять [отсюда](https://ru.wikipedia.org/wiki/%D0%93%D0%BE%D1%80%D0%BE%D0%B4%D0%B0-%D0%BC%D0%B8%D0%BB%D0%BB%D0%B8%D0%BE%D0%BD%D0%B5%D1%80%D1%8B_%D0%A0%D0%BE%D1%81%D1%81%D0%B8%D0%B8). \n",
        "\n",
        "Если возникнут трудности с этим задание посмотрите материалы модуля  PYTHON-17. Как получать данные из веб-источников и API. "
      ]
    },
    {
      "cell_type": "code",
      "execution_count": 36,
      "id": "ZdfrL6gIs1Pn",
      "metadata": {
        "id": "ZdfrL6gIs1Pn"
      },
      "outputs": [
        {
          "data": {
            "text/plain": [
              "('Москва',\n",
              " 'Санкт-Петербург',\n",
              " 'Новосибирск',\n",
              " 'Екатеринбург',\n",
              " 'Казань',\n",
              " 'Нижний Новгород',\n",
              " 'Красноярск',\n",
              " 'Челябинск',\n",
              " 'Самара',\n",
              " 'Уфа',\n",
              " 'Ростов-на-Дону',\n",
              " 'Краснодар',\n",
              " 'Омск',\n",
              " 'Воронеж',\n",
              " 'Пермь',\n",
              " 'Волгоград')"
            ]
          },
          "metadata": {},
          "output_type": "display_data"
        }
      ],
      "source": [
        "# код для получения списка городов-милионников\n",
        "# Импортируем библиотеку requests.\n",
        "import requests\n",
        "# Импортируем библиотеку BeautifulSoup.\n",
        "from bs4 import BeautifulSoup\n",
        "\n",
        "# Cохраняем ссылку на веб-страницу в переменную url.\n",
        "url = 'https://ru.wikipedia.org/wiki/%D0%93%D0%BE%D1%80%D0%BE%D0%B4%D0%B0-%D0%BC%D0%B8%D0%BB%D0%BB%D0%B8%D0%BE%D0%BD%D0%B5%D1%80%D1%8B_%D0%A0%D0%BE%D1%81%D1%81%D0%B8%D0%B8'\n",
        "# Отправляем GET-запрос и сохраняем результат в переменную response.\n",
        "response = requests.get(url)\n",
        "# Создаём объект BeautifulSoup с параметром html.parser, сохраняем под именем soup.\n",
        "soup = BeautifulSoup(response.text, 'html.parser')\n",
        "# в таблице находим все теги td и сохраняем их содержимое в переменную tds.\n",
        "tds = soup.find('table', class_='sortable').find_all('td')\n",
        "# Создаём пустой список, куда будем сохранять названия городов-миллионников.\n",
        "million_cities = []\n",
        "# Создаём цикл, перебираем каждый из тегов td. Если в теге есть ссылка (тег 'a'), извлекаем из него текст \n",
        "# и добавляем в список городов-миллионников.\n",
        "for td in tds:\n",
        "    if td.a is None:\n",
        "        continue\n",
        "    else: \n",
        "        million_cities.append(td.a.text)\n",
        "# превращаем список в кортеж для дальнейшего использования в запросе.\n",
        "million_cities = tuple(million_cities)\n",
        "# Выводим на экран получившийся кортеж.\n",
        "display(million_cities)\n"
      ]
    },
    {
      "cell_type": "code",
      "execution_count": 37,
      "id": "6bc8e526",
      "metadata": {},
      "outputs": [],
      "source": [
        "# текст запроса\n",
        "'''\n",
        "1. Создаём выборку под именем sel, чтобы не повторять эту часть запроса дважды. \n",
        "Соединяем с помощью JOIN таблицу регионов с алиасом а с таблицей вакансий по id региона. \n",
        "Присоединяем таблицу работодателей по id работодателя. Ставим условие: название работодателя равно Яндекс. \n",
        "Группируем по id региона. С помощью HAVING отбираем только те регионы, которые входят в кортеж с городами-\n",
        "миллионниками. Выбираем название региона, подсчитываем id вакансий с помощью COUNT.\n",
        "2. Используя выборку sel,  выбираем из неё название региона и подсчёт вакансий. Затем добавляем с помощью UNION ALL\n",
        "строку Total, в которой суммируем подсчитанные вакансии. Сортируем весь список по количеству вакансий по возрастанию.\n",
        "\n",
        "'''\n",
        "\n",
        "query_5_7 = f'''WITH sel AS (\n",
        "                    SELECT\n",
        "                        a.name, COUNT(v.id) cnt\n",
        "                    FROM public.areas a\n",
        "                        JOIN public.vacancies v ON a.id=v.area_id\n",
        "                        JOIN public.employers e ON v.employer_id=e.id\n",
        "                    WHERE e.name = 'Яндекс' \n",
        "                    GROUP BY a.id\n",
        "                    HAVING a.name IN {million_cities}\n",
        "                )\n",
        "                \n",
        "                SELECT \n",
        "                    sel.name, sel.cnt\n",
        "                FROM sel\n",
        "                UNION All\n",
        "                SELECT \n",
        "                    'Total', SUM(sel.cnt)\n",
        "                FROM sel\n",
        "                ORDER BY 2\n",
        "'''"
      ]
    },
    {
      "cell_type": "code",
      "execution_count": 38,
      "id": "ttPhiO1rsvPq",
      "metadata": {
        "id": "ttPhiO1rsvPq"
      },
      "outputs": [
        {
          "data": {
            "text/html": [
              "<div>\n",
              "<style scoped>\n",
              "    .dataframe tbody tr th:only-of-type {\n",
              "        vertical-align: middle;\n",
              "    }\n",
              "\n",
              "    .dataframe tbody tr th {\n",
              "        vertical-align: top;\n",
              "    }\n",
              "\n",
              "    .dataframe thead th {\n",
              "        text-align: right;\n",
              "    }\n",
              "</style>\n",
              "<table border=\"1\" class=\"dataframe\">\n",
              "  <thead>\n",
              "    <tr style=\"text-align: right;\">\n",
              "      <th></th>\n",
              "      <th>name</th>\n",
              "      <th>cnt</th>\n",
              "    </tr>\n",
              "  </thead>\n",
              "  <tbody>\n",
              "    <tr>\n",
              "      <th>0</th>\n",
              "      <td>Омск</td>\n",
              "      <td>21.0</td>\n",
              "    </tr>\n",
              "    <tr>\n",
              "      <th>1</th>\n",
              "      <td>Челябинск</td>\n",
              "      <td>22.0</td>\n",
              "    </tr>\n",
              "    <tr>\n",
              "      <th>2</th>\n",
              "      <td>Красноярск</td>\n",
              "      <td>23.0</td>\n",
              "    </tr>\n",
              "    <tr>\n",
              "      <th>3</th>\n",
              "      <td>Волгоград</td>\n",
              "      <td>24.0</td>\n",
              "    </tr>\n",
              "    <tr>\n",
              "      <th>4</th>\n",
              "      <td>Ростов-на-Дону</td>\n",
              "      <td>25.0</td>\n",
              "    </tr>\n",
              "    <tr>\n",
              "      <th>5</th>\n",
              "      <td>Казань</td>\n",
              "      <td>25.0</td>\n",
              "    </tr>\n",
              "    <tr>\n",
              "      <th>6</th>\n",
              "      <td>Пермь</td>\n",
              "      <td>25.0</td>\n",
              "    </tr>\n",
              "    <tr>\n",
              "      <th>7</th>\n",
              "      <td>Уфа</td>\n",
              "      <td>26.0</td>\n",
              "    </tr>\n",
              "    <tr>\n",
              "      <th>8</th>\n",
              "      <td>Самара</td>\n",
              "      <td>26.0</td>\n",
              "    </tr>\n",
              "    <tr>\n",
              "      <th>9</th>\n",
              "      <td>Краснодар</td>\n",
              "      <td>30.0</td>\n",
              "    </tr>\n",
              "    <tr>\n",
              "      <th>10</th>\n",
              "      <td>Воронеж</td>\n",
              "      <td>32.0</td>\n",
              "    </tr>\n",
              "    <tr>\n",
              "      <th>11</th>\n",
              "      <td>Новосибирск</td>\n",
              "      <td>35.0</td>\n",
              "    </tr>\n",
              "    <tr>\n",
              "      <th>12</th>\n",
              "      <td>Нижний Новгород</td>\n",
              "      <td>36.0</td>\n",
              "    </tr>\n",
              "    <tr>\n",
              "      <th>13</th>\n",
              "      <td>Екатеринбург</td>\n",
              "      <td>39.0</td>\n",
              "    </tr>\n",
              "    <tr>\n",
              "      <th>14</th>\n",
              "      <td>Санкт-Петербург</td>\n",
              "      <td>42.0</td>\n",
              "    </tr>\n",
              "    <tr>\n",
              "      <th>15</th>\n",
              "      <td>Москва</td>\n",
              "      <td>54.0</td>\n",
              "    </tr>\n",
              "    <tr>\n",
              "      <th>16</th>\n",
              "      <td>Total</td>\n",
              "      <td>485.0</td>\n",
              "    </tr>\n",
              "  </tbody>\n",
              "</table>\n",
              "</div>"
            ],
            "text/plain": [
              "               name    cnt\n",
              "0              Омск   21.0\n",
              "1         Челябинск   22.0\n",
              "2        Красноярск   23.0\n",
              "3         Волгоград   24.0\n",
              "4    Ростов-на-Дону   25.0\n",
              "5            Казань   25.0\n",
              "6             Пермь   25.0\n",
              "7               Уфа   26.0\n",
              "8            Самара   26.0\n",
              "9         Краснодар   30.0\n",
              "10          Воронеж   32.0\n",
              "11      Новосибирск   35.0\n",
              "12  Нижний Новгород   36.0\n",
              "13     Екатеринбург   39.0\n",
              "14  Санкт-Петербург   42.0\n",
              "15           Москва   54.0\n",
              "16            Total  485.0"
            ]
          },
          "metadata": {},
          "output_type": "display_data"
        }
      ],
      "source": [
        "# результат запроса\n",
        "# сохраняем результат запроса в переменную yandex_cnt.\n",
        "yandex_cnt = pd.read_sql_query(query_5_7, connection)\n",
        "# выводим на экран получившийся датафрейм.\n",
        "display(yandex_cnt)"
      ]
    },
    {
      "cell_type": "markdown",
      "id": "04966e40-3bc3-4dc8-9ba2-e80580ce3abc",
      "metadata": {
        "id": "04966e40-3bc3-4dc8-9ba2-e80580ce3abc"
      },
      "source": [
        "***"
      ]
    },
    {
      "cell_type": "markdown",
      "id": "dc38ddc4",
      "metadata": {},
      "source": [
        "**выводы по анализу работодателей:**\n",
        "1. На первом месте по количеству вакансий - крупная международная корпорация Яндекс. Она лидирует с большим отрывом. Далее идут такие крупные компании как Ростелеком, Тинькофф, Сбер и Газпромнефть. \n",
        "\n",
        "2. Многие работодатели не указывают в данных о своей компании конкретный регион и пишут название страны, края или области. Однако, вакансии публикуются в конкретных населённых пунктах, поэтому регионы не всегда совпадают в таблицах с данными о работодателях и о вакансиях.\n",
        "\n",
        "3. Корпорация Яндекс публикует свои вакансии в наибольшем количестве регионов (181). Также очень многие регионы охватывают такие крупные компании, как Ростелеком и Спецремонт. Немного удивляет присутствие на 3ем месте по охвату регионов ИП Поляков Денис Иванович.  Также присутствуют данные компаний, которые не публикуют вакансий в данное время. Возможно, это старые данные о работодателях, которые публиковались ранее. Можно было бы подумать, что эти работодатели не указали регион в своих вакансиях, однако, при знакомстве с данными мы увидели, что поле региона в таблице вакансий не содержит пропусков. \n",
        "\n",
        "4. Более 8 тысяч работодателей не указали сферу деятельности в данных о своей компании. Это более трети от количества представленных работодателей.\n",
        "\n",
        "5. На третьем месте в алфавитном списке компаний, указавших 4 сферы деятельности, нахдится компания \"2ГИС\". \n",
        "\n",
        "Этот пункт показался мне малоинформативным, и я позволила себе дополнить его графиком распределения работодателей по количеству сфер деятельности, которые они указали. Судя по этому графику, максимальное количество указанных сфер деятельности - 5.  Работодателей, указавших 5 сфер деятельности более тысячи, их даже больше, чем тех, кто указал 4 сферы деятельности.  Наибольшее количество работодателей вообще не указали свои сферы деятельности (8419 работодателей). Более 6 тысяч работодателей указали одну сферу деятельности. Среднее количество указанных сфер деятельности составило 1,4.  \n",
        "\n",
        "6. У 3553 работодателей в качестве сферы деятельности указана Разработка программного обеспечения.  Это около одной шестой части от общего количества работодателей в базе данных.\n",
        "\n",
        "7. Корпорация \"Яндекс\" - лидер по количеству ваканссий, - публикует свои вакансии во всех городах-миллионниках, не менее 20 вакансий в каждом. Больше всего вакансий Яндекса опубликовано в Москве (54) и в Санкт-Петербурге (42).\n",
        "Всего в городах-миллионниках России опубликовано 485 вакансий Яндекса."
      ]
    },
    {
      "cell_type": "markdown",
      "id": "b1ef156a-efcb-49ce-bb23-90763e7f35b2",
      "metadata": {
        "id": "b1ef156a-efcb-49ce-bb23-90763e7f35b2",
        "tags": []
      },
      "source": [
        "# Юнит 6. Предметный анализ"
      ]
    },
    {
      "cell_type": "markdown",
      "id": "b9cd50a0-992d-4988-8463-2b2b1c4629b4",
      "metadata": {
        "id": "b9cd50a0-992d-4988-8463-2b2b1c4629b4"
      },
      "source": [
        "1. Сколько вакансий имеет отношение к данным?\n",
        "\n",
        "Считаем, что вакансия имеет отношение к данным, если в её названии содержатся слова 'data' или 'данн'.\n",
        "\n",
        "*Подсказка: Обратите внимание, что названия вакансий могут быть написаны в любом регистре.* \n"
      ]
    },
    {
      "cell_type": "code",
      "execution_count": 39,
      "id": "54ab0e50-c0f1-47cc-a54b-bc5c8bc363f9",
      "metadata": {
        "id": "54ab0e50-c0f1-47cc-a54b-bc5c8bc363f9"
      },
      "outputs": [],
      "source": [
        "# текст запроса\n",
        "# Подсчитываем все строки из таблицы вакансий с алиасом v, в которых название вакансии включает в себя 'data' или\n",
        "# 'данн'. Чтобы убрать влияние регистра, используем оператор ILIKE, нечувствительный к регистру.\n",
        "query_6_1 = f'''SELECT COUNT(*)\n",
        "                FROM public.vacancies v\n",
        "                WHERE (v.name ILIKE '%data%') OR (v.name ILIKE '%данн%')\n",
        "'''"
      ]
    },
    {
      "cell_type": "code",
      "execution_count": 40,
      "id": "9F1meAqsuUjd",
      "metadata": {
        "id": "9F1meAqsuUjd"
      },
      "outputs": [
        {
          "data": {
            "text/plain": [
              "'Количество вакансий, имеющих отношение к данным: 1771'"
            ]
          },
          "metadata": {},
          "output_type": "display_data"
        }
      ],
      "source": [
        "# результат запроса\n",
        "# Сохраняем результат запроса в переменную data_v_qty.\n",
        "data_v_qty = pd.read_sql_query(query_6_1, connection)\n",
        "# Выводим результат на экран с помощью f-строки и метода squeeze().\n",
        "display(f'Количество вакансий, имеющих отношение к данным: {data_v_qty.squeeze()}')"
      ]
    },
    {
      "cell_type": "markdown",
      "id": "4dea20cb-a36b-474a-a0b9-e08e8e3857a5",
      "metadata": {
        "id": "4dea20cb-a36b-474a-a0b9-e08e8e3857a5"
      },
      "source": [
        "2. Сколько есть подходящих вакансий для начинающего дата-сайентиста? \n",
        "Будем считать вакансиями для дата-сайентистов такие, в названии которых есть хотя бы одно из следующих сочетаний:\n",
        "* 'data scientist'\n",
        "* 'data science'\n",
        "* 'исследователь данных'\n",
        "* 'ML' (здесь не нужно брать вакансии по HTML)\n",
        "* 'machine learning'\n",
        "* 'машинн%обучен%'\n",
        "\n",
        "** В следующих заданиях мы продолжим работать с вакансиями по этому условию.*\n",
        "\n",
        "Считаем вакансиями для специалистов уровня Junior следующие:\n",
        "* в названии есть слово 'junior' *или*\n",
        "* требуемый опыт — Нет опыта *или*\n",
        "* тип трудоустройства — Стажировка.\n",
        " "
      ]
    },
    {
      "cell_type": "code",
      "execution_count": 41,
      "id": "9c61b3c0-bb66-46c9-ae1e-81d3f5752b4a",
      "metadata": {
        "id": "9c61b3c0-bb66-46c9-ae1e-81d3f5752b4a"
      },
      "outputs": [],
      "source": [
        "# текст запроса\n",
        "# создаём список шаблонов\n",
        "tpl = [\n",
        "    '%data scientist%', \n",
        "    '%data science%', \n",
        "    '%исследователь данных%', \n",
        "    '%machine learning%', \n",
        "    '%машинн%обучен%', \n",
        "    '%ML%'\n",
        "]\n",
        "\n",
        "'''\n",
        "Подсчитываем вакансии из таблицы vacancies, где в названии вакансии \n",
        "встречается любое из указанных в задании сочетаний (чтобы сократить количество выражений с ILIKE, \n",
        "с помощью функции ARRAY создаём массив из списка шаблонов tpl и сравниваем название вакансии со всеми \n",
        "элементами массива), а также выполняется условие, что в названии вакансии присутствует слово 'junior' \n",
        "или требуемый опыт - 'нет опыта', либо занятость обозначается, как 'стажировка'.\n",
        "'''\n",
        "\n",
        "query_6_2 = f'''SELECT COUNT(id) cnt\n",
        "                FROM public.vacancies \n",
        "                WHERE \n",
        "                    (name ILIKE ANY (ARRAY{tpl})\n",
        "                    AND name NOT ILIKE '%HTML%')\n",
        "                    AND (name ILIKE '%junior%'\n",
        "                    OR experience = 'Нет опыта'\n",
        "                    OR employment = 'Стажировка')\n",
        "                            \n",
        "'''"
      ]
    },
    {
      "cell_type": "code",
      "execution_count": 42,
      "id": "ZNM-LLYuu1dj",
      "metadata": {
        "id": "ZNM-LLYuu1dj"
      },
      "outputs": [
        {
          "data": {
            "text/plain": [
              "'Количество вакансий, подходящих для начинающих дата-сайентистов: 51'"
            ]
          },
          "metadata": {},
          "output_type": "display_data"
        }
      ],
      "source": [
        "# результат запроса\n",
        "# Сохраняем результат запроса в переменную.\n",
        "ds_junior_vacancies = pd.read_sql_query(query_6_2, connection)\n",
        "# Выводим результат на экран с помощью f-строки и метода squeeze().\n",
        "display(f'Количество вакансий, подходящих для начинающих дата-сайентистов: {ds_junior_vacancies.squeeze()}')"
      ]
    },
    {
      "cell_type": "markdown",
      "id": "eedceb80-c5ca-480e-b27a-278dfb8b4438",
      "metadata": {
        "id": "eedceb80-c5ca-480e-b27a-278dfb8b4438"
      },
      "source": [
        "3. Сколько есть вакансий для DS, в которых в качестве ключевого навыка указан SQL или postgres?\n",
        "\n",
        "** Критерии для отнесения вакансии к DS указаны в предыдущем задании.*"
      ]
    },
    {
      "cell_type": "code",
      "execution_count": 43,
      "id": "69621713-0cc5-4f1b-a1d7-bb144fa6148c",
      "metadata": {
        "id": "69621713-0cc5-4f1b-a1d7-bb144fa6148c"
      },
      "outputs": [],
      "source": [
        "# текст запроса\n",
        "'''\n",
        "Подсчитываем вакансии из таблицы vacancies, где в названии вакансии встречается любое из указанных\n",
        "в задании 6.2 сочетаний (с помощью функции ARRAY создаём массив из списка шаблонов tpl, созданного в \n",
        "задании 6.2), а также выполняется условие, что в ключевых навыках присутствуют слова SQL или postgres.\n",
        "'''\n",
        "\n",
        "query_6_3 = f'''SELECT COUNT(id) cnt\n",
        "                FROM public.vacancies \n",
        "                WHERE \n",
        "                    (name ILIKE ANY (ARRAY{tpl})\n",
        "                    AND name NOT ILIKE '%HTML%')\n",
        "                    AND (key_skills ILIKE '%sql%'\n",
        "                    OR key_skills ILIKE '%postgres%')\n",
        "                    \n",
        "'''"
      ]
    },
    {
      "cell_type": "code",
      "execution_count": 44,
      "id": "alA8WEAAvGdf",
      "metadata": {
        "id": "alA8WEAAvGdf"
      },
      "outputs": [
        {
          "data": {
            "text/plain": [
              "'Количество вакансий для DS с указанием в ключевых навыках SQL или postgres: 229'"
            ]
          },
          "metadata": {},
          "output_type": "display_data"
        }
      ],
      "source": [
        "# результат запроса\n",
        "# Сохраняем результат запроса в переменную.\n",
        "ds_sql_vacancies = pd.read_sql_query(query_6_3, connection)\n",
        "# Выводим результат на экран с помощью f-строки и метода squeeze().\n",
        "display(f'Количество вакансий для DS с указанием в ключевых навыках SQL или postgres: {ds_sql_vacancies.squeeze()}')"
      ]
    },
    {
      "cell_type": "markdown",
      "id": "1be1e9c6-37cf-4a5f-bfeb-04cab799dc80",
      "metadata": {
        "id": "1be1e9c6-37cf-4a5f-bfeb-04cab799dc80"
      },
      "source": [
        "4. Проверьте, насколько популярен Python в требованиях работодателей к DS.Для этого вычислите количество вакансий, в которых в качестве ключевого навыка указан Python.\n",
        "\n",
        "** Это можно сделать помощью запроса, аналогичного предыдущему.*"
      ]
    },
    {
      "cell_type": "code",
      "execution_count": 45,
      "id": "0036a355-9ccf-4564-8b01-73d8194297e7",
      "metadata": {
        "id": "0036a355-9ccf-4564-8b01-73d8194297e7"
      },
      "outputs": [],
      "source": [
        "# текст запроса\n",
        "'''\n",
        "Подсчитываем вакансии из таблицы vacancies, где в названии вакансии встречается любое \n",
        "из указанных в задании 6.2 сочетаний (с помощью функции ARRAY создаём массив из списка шаблонов tpl, \n",
        "созданного в задании 6.2), а также выполняется условие, что в ключевых навыках присутствует слово python.\n",
        "'''\n",
        "\n",
        "query_6_4 = f'''SELECT COUNT(id) cnt\n",
        "                FROM public.vacancies \n",
        "                WHERE \n",
        "                    name ILIKE ANY (ARRAY{tpl})\n",
        "                    AND name NOT ILIKE '%HTML%'\n",
        "                    AND key_skills ILIKE '%python%'\n",
        "                    \n",
        "'''"
      ]
    },
    {
      "cell_type": "code",
      "execution_count": 46,
      "id": "1i-5WyucvQ6v",
      "metadata": {
        "id": "1i-5WyucvQ6v"
      },
      "outputs": [
        {
          "data": {
            "text/plain": [
              "'Количество вакансий для DS с указанием в ключевых навыках Python: 357'"
            ]
          },
          "metadata": {},
          "output_type": "display_data"
        }
      ],
      "source": [
        "# результат запроса\n",
        "# Сохраняем результат запроса в переменную.\n",
        "ds_python_vacancies = pd.read_sql_query(query_6_4, connection)\n",
        "# Выводим результат на экран с помощью f-строки и метода squeeze().\n",
        "display(f'Количество вакансий для DS с указанием в ключевых навыках Python: {ds_python_vacancies.squeeze()}')"
      ]
    },
    {
      "cell_type": "markdown",
      "id": "ec3c8db7-fa21-4a41-a994-1af63742a642",
      "metadata": {
        "id": "ec3c8db7-fa21-4a41-a994-1af63742a642"
      },
      "source": [
        "5. Сколько ключевых навыков в среднем указывают в вакансиях для DS?\n",
        "Ответ округлите до двух знаков после точки-разделителя."
      ]
    },
    {
      "cell_type": "code",
      "execution_count": 47,
      "id": "949132bc-d5b6-4611-8218-0b9a504d74f4",
      "metadata": {
        "id": "949132bc-d5b6-4611-8218-0b9a504d74f4"
      },
      "outputs": [],
      "source": [
        "# текст запроса\n",
        "# в данном задании немного меняется список, т.к. с 'ML' нужно использовать LIKE, а не ILIKE, \n",
        "# чтобы в выборку не были включены слова типа 'TeamLead'\n",
        "tpl_1 = [\n",
        "    '%data scientist%', \n",
        "    '%data science%', \n",
        "    '%исследователь данных%', \n",
        "    '%machine learning%', \n",
        "    '%машинн%обучен%', \n",
        "]\n",
        "\n",
        "\n",
        "'''\n",
        "С помощью функции LENGTH считаем количество символов в строке ключевого навыка key_skill. Вычитаем из этого количества\n",
        "число символов в этой же строке после замены разделяющего символа табуляции на пустую строку. \n",
        "Получаем количество разделителей, которое меньше количества ключевых навыков на единицу, т.к. стоят между ними.\n",
        "Добавляем эту единицу. Находим среднее с помощью агрегатной функции AVG, округляем результат до 2 символов после\n",
        "точки-разделителя и присваиваем результату алиас avg_skills.\n",
        "\n",
        "Выводим avg_skills из из таблицы vacancies, где в названии вакансии встречается любое из указанных в задании 6.2 \n",
        "сочетаний (с помощью функции ARRAY создаём массив из списка шаблонов tpl_1, добавляем фильтр по 'ML' и 'HTML')\n",
        "'''\n",
        "\n",
        "\n",
        "query_6_5 = f'''SELECT ROUND(AVG(LENGTH(key_skills) - LENGTH(REPLACE(key_skills, CHR(9), '')) + 1), 2) avg_skills\n",
        "                FROM public.vacancies \n",
        "                WHERE \n",
        "                    name ILIKE ANY (ARRAY{tpl_1})\n",
        "                    OR (name LIKE '%ML%' AND name NOT ILIKE '%HTML%')           \n",
        "           \n",
        "'''"
      ]
    },
    {
      "cell_type": "code",
      "execution_count": 48,
      "id": "a3V24Tvmviqk",
      "metadata": {
        "id": "a3V24Tvmviqk"
      },
      "outputs": [
        {
          "data": {
            "text/plain": [
              "'Среднее число ключевых навыков в вакансиях для DS: 6.41'"
            ]
          },
          "metadata": {},
          "output_type": "display_data"
        }
      ],
      "source": [
        "# результат запроса\n",
        "# Сохраняем результат запроса в переменную.\n",
        "avg_key_skills = pd.read_sql_query(query_6_5, connection)\n",
        "# Выводим результат на экран с помощью f-строки и метода squeeze().\n",
        "display(f'Среднее число ключевых навыков в вакансиях для DS: {avg_key_skills.squeeze()}')"
      ]
    },
    {
      "cell_type": "markdown",
      "id": "1041c17a-ca8f-4543-a0ca-32778914fb00",
      "metadata": {
        "id": "1041c17a-ca8f-4543-a0ca-32778914fb00"
      },
      "source": [
        "6. Напишите запрос, позволяющий вычислить, какую зарплату для DS в **среднем** указывают для каждого типа требуемого опыта (уникальное значение из поля *experience*). \n",
        "\n",
        "При решении задачи примите во внимание следующее:\n",
        "1. Рассматриваем только вакансии, у которых заполнено хотя бы одно из двух полей с зарплатой.\n",
        "2. Если заполнены оба поля с зарплатой, то считаем зарплату по каждой вакансии как сумму двух полей, делённую на 2. Если заполнено только одно из полей, то его и считаем зарплатой по вакансии.\n",
        "3. Если в расчётах участвует null, в результате он тоже даст null (посмотрите, что возвращает запрос select 1 + null). Чтобы избежать этой ситуацию, мы воспользуемся функцией [coalesce](https://postgrespro.ru/docs/postgresql/9.5/functions-conditional#functions-coalesce-nvl-ifnull), которая заменит null на значение, которое мы передадим. Например, посмотрите, что возвращает запрос `select 1 + coalesce(null, 0)`\n",
        "\n",
        "Выясните, на какую зарплату в среднем может рассчитывать дата-сайентист с опытом работы от 3 до 6 лет. Результат округлите до целого числа. "
      ]
    },
    {
      "cell_type": "code",
      "execution_count": 49,
      "id": "6a743d39-5204-48d3-8271-b9f88e68d40e",
      "metadata": {
        "id": "6a743d39-5204-48d3-8271-b9f88e68d40e"
      },
      "outputs": [],
      "source": [
        "# текст запроса\n",
        "'''\n",
        "В моём решении значения NULL отсекаются, поэтому мне не потребовалась функция coalesce. \n",
        "\n",
        "С помощью WITH создаём подзапрос ds, отбирая оба поля с зарплатой и поле с опытом работы из таблицы вакансий для DS.\n",
        "Используем снова список шаблонов tpl_1, созданный в задании 6.5. \n",
        "\n",
        "Второй подзапрос salary также идёт в блоке WITH через запятую. В нём обращаемся к подзапросу ds и объединяем \n",
        "с помощью UNION All записи, в которых оба поля зарплаты заполнены или только одно из них заполнено, отсекая таким\n",
        "образом записи с незаполненными полями зарплаты. Выбираем поле с опытом работы и значения запрлаты, в зависимости \n",
        "от заполненности зарплатных полей, присваиваем зарплате алиас salary_calculated. \n",
        "\n",
        "Выводим из подзапроса salary опыт работы и находим среднее значение зарплаты с помощью агрегатной функции AVG().\n",
        "Делаем группировку по опыту работы. \n",
        "'''\n",
        "query_6_6 = f'''WITH ds AS (SELECT experience, salary_from, salary_to\n",
        "                            FROM public.vacancies \n",
        "                            WHERE name ILIKE ANY (ARRAY{tpl_1})\n",
        "                                OR (name LIKE '%ML%' AND name NOT ILIKE '%HTML%')\n",
        "                            ),    \n",
        "                            \n",
        "                salary AS   (SELECT experience, ((salary_from + salary_to) / 2) salary_calculated\n",
        "                            FROM ds\n",
        "                            WHERE salary_from IS NOT NULL \n",
        "                                AND salary_to IS NOT NULL\n",
        "                            UNION ALL\n",
        "                            SELECT experience, salary_from\n",
        "                            FROM ds\n",
        "                            WHERE salary_from IS NOT NULL \n",
        "                                AND salary_to IS NULL\n",
        "                            UNION ALL\n",
        "                            SELECT experience, salary_to \n",
        "                            FROM ds\n",
        "                            WHERE salary_to IS NOT NULL \n",
        "                                AND salary_from IS NULL)\n",
        "\n",
        "SELECT experience, AVG(salary_calculated)\n",
        "FROM salary\n",
        "GROUP BY experience\n",
        "\n",
        "'''"
      ]
    },
    {
      "cell_type": "code",
      "execution_count": 50,
      "id": "aRIJ0mZEwU1_",
      "metadata": {
        "id": "aRIJ0mZEwU1_"
      },
      "outputs": [
        {
          "data": {
            "text/html": [
              "<div>\n",
              "<style scoped>\n",
              "    .dataframe tbody tr th:only-of-type {\n",
              "        vertical-align: middle;\n",
              "    }\n",
              "\n",
              "    .dataframe tbody tr th {\n",
              "        vertical-align: top;\n",
              "    }\n",
              "\n",
              "    .dataframe thead th {\n",
              "        text-align: right;\n",
              "    }\n",
              "</style>\n",
              "<table border=\"1\" class=\"dataframe\">\n",
              "  <thead>\n",
              "    <tr style=\"text-align: right;\">\n",
              "      <th></th>\n",
              "      <th>experience</th>\n",
              "      <th>avg</th>\n",
              "    </tr>\n",
              "  </thead>\n",
              "  <tbody>\n",
              "    <tr>\n",
              "      <th>0</th>\n",
              "      <td>От 3 до 6 лет</td>\n",
              "      <td>243114.666667</td>\n",
              "    </tr>\n",
              "    <tr>\n",
              "      <th>1</th>\n",
              "      <td>От 1 года до 3 лет</td>\n",
              "      <td>139674.750000</td>\n",
              "    </tr>\n",
              "    <tr>\n",
              "      <th>2</th>\n",
              "      <td>Нет опыта</td>\n",
              "      <td>74642.857143</td>\n",
              "    </tr>\n",
              "  </tbody>\n",
              "</table>\n",
              "</div>"
            ],
            "text/plain": [
              "           experience            avg\n",
              "0       От 3 до 6 лет  243114.666667\n",
              "1  От 1 года до 3 лет  139674.750000\n",
              "2           Нет опыта   74642.857143"
            ]
          },
          "metadata": {},
          "output_type": "display_data"
        },
        {
          "data": {
            "text/plain": [
              "'Средняя зарплата для DS с опытом работы от 3 до 6 лет: 243115'"
            ]
          },
          "metadata": {},
          "output_type": "display_data"
        }
      ],
      "source": [
        "# результат запроса\n",
        "# Сохраняем результат запроса в переменную avg_salaries.\n",
        "avg_salaries = pd.read_sql_query(query_6_6, connection)\n",
        "# Выводим получившийся датафрейм на экран.\n",
        "display(avg_salaries)\n",
        "# Выводим среднюю зарплату для DS с опытом \"От 3 до 6 лет\" с помощью f-строки и округляем с помощью round().\n",
        "display(f'Средняя зарплата для DS с опытом работы от 3 до 6 лет: {round(avg_salaries.iloc[0][1])}')"
      ]
    },
    {
      "cell_type": "markdown",
      "id": "6a7892b4-4113-4746-adce-18aa2844f18e",
      "metadata": {
        "id": "6a7892b4-4113-4746-adce-18aa2844f18e"
      },
      "source": [
        "***"
      ]
    },
    {
      "cell_type": "markdown",
      "id": "e46de00f",
      "metadata": {},
      "source": [
        "**Выводы по предметному анализу:**\n",
        "\n",
        "1. К данным имеют отношение 1771 вакансии.\n",
        "\n",
        "2. Количество вакансий, подходящих для начинающих дата-сайентистов - 51. Не так много, но это и понятно: большинство работодателей предпочитают брать на работу опытных специалистов.\n",
        "\n",
        "3. Количество вакансий для дата-сайентистов с указанием в ключевых навыках SQL или postgres - 229. Это достаточно примерно одна седьмая часть от общего количества вакансий, имеющих отношение к данным. Значит, эти навыки довольно востребованы.\n",
        "\n",
        "4. Количество вакансий для дата-сайентистов с указанием в ключевых навыках Python - 357. Это более, чем одна пятая часть от общего количества вакансий, имеющих отношение к данным. Видимо, этот навык очень востребован.\n",
        "\n",
        "5. Среднее число ключевых навыков в вакансиях для дата-сайентистов - 6.41. В вакансиях для DS указывается много требований по ключевым навыкам, т.е. кандидат должен обладать большим количеством навыков, чтобы быть востребованным.\n",
        "\n",
        "6. Средняя зарплата для специалистов в Data Science довольно высокая. Даже для кандидатов без опыта - 74653 рубля. Это большая зарплата для новичка.  В зависимости от опыта она возрастает до 243115 рублей (при опыте от 3 до 6 лет). Вакансий с требованиями наличия опыта более 6 лет среди рассматриваемых вакансий нет. "
      ]
    },
    {
      "cell_type": "markdown",
      "id": "c0ED6fh7wiBT",
      "metadata": {
        "id": "c0ED6fh7wiBT"
      },
      "source": [
        "# Общий вывод по проекту"
      ]
    },
    {
      "cell_type": "markdown",
      "id": "de43aca0",
      "metadata": {},
      "source": [
        "**Подведем итог исследования, обобщите выводы**\n",
        "\n",
        "В базе данных представлены 49197 вакансий для IT-специалистов в 294 сферах деятельности от 23501 работодателя из 1362 регионов. Больше всего вакансий для специалистов в области IT представлено в крупных городах. Также есть вакансии из других стран. \n",
        "\n",
        "Довольно много вакансий с полной занятостью - почти 8 тысяч подходят для удалённой работы, но самый популярный вариант всё же \"Полный день - полная занятость\". Популярность удалённой работы в последнее время (особенно после пандемии) всё больше растёт, думаю, что в дальнейшем этот вариант графика работы постепенно выйдет на первое место для IT-специалистов, и в таком случае не будет большой необходимости указывать регионы в вакансиях, т.к. работать удалённо можно из любой точки мира. \n",
        "\n",
        "На первом месте по количеству вакансий - корпорация Яндекс. Далее идут другие крупные компании. У них очень большой штат, поэтому и специалистов им требуется много в разных регионах. \n",
        "\n",
        "Самые востребованные специалисты - с опытом работы от 1 до 3 лет. Думаю, это связано с тем, что сфера IT быстро развивается. В этой сфере постоянно нужно обновлять свои скиллы, но не все специалисты готовы этим заниматься. Поэтому минимальный опыт работы гарантирует, что специалист уже не новичок и, в тоже время, полученные им во время учебы знания ещё не успели устареть.  \n",
        "\n",
        "Отношение к данным имеют 1771 вакансия. Думаю, сравнивать с этим количеством полученные данные о вакансиях для DS  не совсем корректно. Поэтому, проведя дополнительные исследования ниже, я выяснила, что для дата-сайентистов подходит только 480 из них. \n",
        "\n",
        "Наиболее востребованным ключевым навыком для дата-сайентистов является Python - в 357 вакансиях из 480. SQL или Postgres в 229 вакансиях для DS. Это одни из основных навыки, которые должны быть у дата-сайентиста. \n",
        "\n",
        "Для начинающих специалистов в Data Science в базе представлена 51 вакансия из 480, думаю, это достаточно много, и  Возможность устроиться сразу после обучения вполне реальна для новичка.\n",
        "\n",
        "Среднее число ключевых навыков в вакансиях для дата-сайентистов - 6.41. В вакансиях для DS указывается много требований по ключевым навыкам, т.е. кандидат должен обладать большим количеством навыков, чтобы быть востребованным.\n",
        "\n",
        "Средняя зарплата для специалистов в Data Science довольно высока. 74 тысячи рублей - это высокая зарплата для новичка. В зависимости от опыта она возрастает до более чем 243 тысяч рублей. Вакансий с требованиями наличия опыта более 6 лет среди вакансий для DS нет. \n",
        "\n",
        "Ниже приведены дополнительные исследования и очень наглядный график, который показывает зависимость средней заработной платы от опыта работы для дата-сайентистов и других специалистов в сфере IT. Он показывает, что заработная плата специалистов Data Science почти в 2 раза превышает заработную плату, предлагаемую другим IT-специалистам.\n",
        "\n",
        "Выводы из вышесказанного: специальность дата-сайентиста - очень перспективная и востребованная на рынке труда. Высокая заработная плата отражает как востребованность, так и то, что специалист должен обладать большим количеством навыков.\n"
      ]
    },
    {
      "cell_type": "markdown",
      "id": "f851bfa6",
      "metadata": {},
      "source": [
        "# ДОПОЛНИТЕЛЬНЫЕ ИССЛЕДОВАНИЯ:\n",
        "\n",
        "Хочется оценить общее количество вакансий для дата-сайентистов. Ниже я создала запрос, который подсчитывает все вакансии, которые относятся к Data Science.\n"
      ]
    },
    {
      "cell_type": "code",
      "execution_count": 51,
      "id": "85ed698e",
      "metadata": {},
      "outputs": [],
      "source": [
        "# запрос\n",
        "'''\n",
        "Считаем с помощью COUNT() все строки из из таблицы vacancies, где в названии вакансии встречается любое \n",
        "из указанных в задании 6.2 сочетаний (снова используем список шаблонов tpl_1, добавляем фильтр по 'ML' и 'HTML')\n",
        "'''\n",
        "\n",
        "query_ds = f'''SELECT COUNT (*)\n",
        "                FROM public.vacancies \n",
        "                WHERE \n",
        "                    name ILIKE ANY (ARRAY{tpl_1})\n",
        "                    OR (name LIKE '%ML%' AND name NOT ILIKE '%HTML%')           \n",
        "           \n",
        "'''"
      ]
    },
    {
      "cell_type": "code",
      "execution_count": 52,
      "id": "072d1611",
      "metadata": {},
      "outputs": [
        {
          "data": {
            "text/plain": [
              "'Всего вакансий для DS: 480'"
            ]
          },
          "metadata": {},
          "output_type": "display_data"
        }
      ],
      "source": [
        "# результат запроса\n",
        "# Сохраняем результат запроса в переменную avg_salaries.\n",
        "ds_vacancies = pd.read_sql_query(query_ds, connection)\n",
        "# Выводим результат подсчёта вакансий с помощью f-строки и функции squeeze().\n",
        "display(f'Всего вакансий для DS: {ds_vacancies.squeeze()}')"
      ]
    },
    {
      "cell_type": "markdown",
      "id": "3b996d91",
      "metadata": {},
      "source": [
        "Также, я думаю, будет полезно посмотреть на средние зарплаты у специалистов, не связанных с Data Science. "
      ]
    },
    {
      "cell_type": "code",
      "execution_count": 53,
      "id": "h9B3BL-wwj18",
      "metadata": {
        "id": "h9B3BL-wwj18"
      },
      "outputs": [
        {
          "data": {
            "text/html": [
              "<div>\n",
              "<style scoped>\n",
              "    .dataframe tbody tr th:only-of-type {\n",
              "        vertical-align: middle;\n",
              "    }\n",
              "\n",
              "    .dataframe tbody tr th {\n",
              "        vertical-align: top;\n",
              "    }\n",
              "\n",
              "    .dataframe thead th {\n",
              "        text-align: right;\n",
              "    }\n",
              "</style>\n",
              "<table border=\"1\" class=\"dataframe\">\n",
              "  <thead>\n",
              "    <tr style=\"text-align: right;\">\n",
              "      <th></th>\n",
              "      <th>experience</th>\n",
              "      <th>avg</th>\n",
              "    </tr>\n",
              "  </thead>\n",
              "  <tbody>\n",
              "    <tr>\n",
              "      <th>0</th>\n",
              "      <td>От 3 до 6 лет</td>\n",
              "      <td>133210.916976</td>\n",
              "    </tr>\n",
              "    <tr>\n",
              "      <th>1</th>\n",
              "      <td>От 1 года до 3 лет</td>\n",
              "      <td>76540.818863</td>\n",
              "    </tr>\n",
              "    <tr>\n",
              "      <th>2</th>\n",
              "      <td>Более 6 лет</td>\n",
              "      <td>166256.080000</td>\n",
              "    </tr>\n",
              "    <tr>\n",
              "      <th>3</th>\n",
              "      <td>Нет опыта</td>\n",
              "      <td>40471.945005</td>\n",
              "    </tr>\n",
              "  </tbody>\n",
              "</table>\n",
              "</div>"
            ],
            "text/plain": [
              "           experience            avg\n",
              "0       От 3 до 6 лет  133210.916976\n",
              "1  От 1 года до 3 лет   76540.818863\n",
              "2         Более 6 лет  166256.080000\n",
              "3           Нет опыта   40471.945005"
            ]
          },
          "metadata": {},
          "output_type": "display_data"
        }
      ],
      "source": [
        "# текст запроса\n",
        "'''\n",
        "Делаем аналогичный предыдущему запрос, но выбираем вакансии, которые не подходят под критерии DS.\n",
        "'''\n",
        "query_6_6 = f'''WITH ds AS (SELECT experience, salary_from, salary_to\n",
        "                            FROM public.vacancies \n",
        "                            WHERE name NOT ILIKE ANY (ARRAY{tpl})\n",
        "                            ),    \n",
        "                            \n",
        "                salary AS   (SELECT experience, ((salary_from + salary_to) / 2) salary_calculated\n",
        "                            FROM ds\n",
        "                            WHERE salary_from IS NOT NULL \n",
        "                                AND salary_to IS NOT NULL\n",
        "                            UNION ALL\n",
        "                            SELECT experience, salary_from\n",
        "                            FROM ds\n",
        "                            WHERE salary_from IS NOT NULL \n",
        "                                AND salary_to IS NULL\n",
        "                            UNION ALL\n",
        "                            SELECT experience, salary_to \n",
        "                            FROM ds\n",
        "                            WHERE salary_to IS NOT NULL \n",
        "                                AND salary_from IS NULL)\n",
        "\n",
        "SELECT experience, AVG(salary_calculated)\n",
        "FROM salary\n",
        "GROUP BY experience\n",
        "\n",
        "'''\n",
        "\n",
        "# результат запроса\n",
        "# Сохраняем результат запроса в переменную other_avg_salaries.\n",
        "other_avg_salaries = pd.read_sql_query(query_6_6, connection)\n",
        "# Выводим получившийся датафрейм на экран.\n",
        "display(other_avg_salaries)\n"
      ]
    },
    {
      "cell_type": "markdown",
      "id": "b5a14140",
      "metadata": {},
      "source": [
        "Построим для наглядности многоуровневую столбчатую диаграмму, сравнивающую среднюю заработную плату вакансий для DS со средней заработной платой из вакансий для других специалитов.\n"
      ]
    },
    {
      "cell_type": "code",
      "execution_count": 56,
      "id": "73c681d2",
      "metadata": {},
      "outputs": [
        {
          "data": {
            "application/vnd.plotly.v1+json": {
              "config": {
                "plotlyServerURL": "https://plot.ly"
              },
              "data": [
                {
                  "alignmentgroup": "True",
                  "hovertemplate": "DS_other=DS<br>avg=%{x}<br>experience=%{y}<extra></extra>",
                  "legendgroup": "DS",
                  "marker": {
                    "color": "#636efa",
                    "pattern": {
                      "shape": ""
                    }
                  },
                  "name": "DS",
                  "offsetgroup": "DS",
                  "orientation": "h",
                  "showlegend": true,
                  "textposition": "auto",
                  "texttemplate": "%{x}",
                  "type": "bar",
                  "x": [
                    243114.66666666666,
                    139674.75,
                    74642.85714285714
                  ],
                  "xaxis": "x",
                  "y": [
                    "От 3 до 6 лет",
                    "От 1 года до 3 лет",
                    "Нет опыта"
                  ],
                  "yaxis": "y"
                },
                {
                  "alignmentgroup": "True",
                  "hovertemplate": "DS_other=other<br>avg=%{x}<br>experience=%{y}<extra></extra>",
                  "legendgroup": "other",
                  "marker": {
                    "color": "#EF553B",
                    "pattern": {
                      "shape": ""
                    }
                  },
                  "name": "other",
                  "offsetgroup": "other",
                  "orientation": "h",
                  "showlegend": true,
                  "textposition": "auto",
                  "texttemplate": "%{x}",
                  "type": "bar",
                  "x": [
                    133210.916976456,
                    76540.81886262579,
                    166256.08,
                    40471.9450049456
                  ],
                  "xaxis": "x",
                  "y": [
                    "От 3 до 6 лет",
                    "От 1 года до 3 лет",
                    "Более 6 лет",
                    "Нет опыта"
                  ],
                  "yaxis": "y"
                }
              ],
              "layout": {
                "barmode": "group",
                "legend": {
                  "title": {
                    "text": "DS_other"
                  },
                  "tracegroupgap": 0
                },
                "template": {
                  "data": {
                    "bar": [
                      {
                        "error_x": {
                          "color": "#2a3f5f"
                        },
                        "error_y": {
                          "color": "#2a3f5f"
                        },
                        "marker": {
                          "line": {
                            "color": "#E5ECF6",
                            "width": 0.5
                          },
                          "pattern": {
                            "fillmode": "overlay",
                            "size": 10,
                            "solidity": 0.2
                          }
                        },
                        "type": "bar"
                      }
                    ],
                    "barpolar": [
                      {
                        "marker": {
                          "line": {
                            "color": "#E5ECF6",
                            "width": 0.5
                          },
                          "pattern": {
                            "fillmode": "overlay",
                            "size": 10,
                            "solidity": 0.2
                          }
                        },
                        "type": "barpolar"
                      }
                    ],
                    "carpet": [
                      {
                        "aaxis": {
                          "endlinecolor": "#2a3f5f",
                          "gridcolor": "white",
                          "linecolor": "white",
                          "minorgridcolor": "white",
                          "startlinecolor": "#2a3f5f"
                        },
                        "baxis": {
                          "endlinecolor": "#2a3f5f",
                          "gridcolor": "white",
                          "linecolor": "white",
                          "minorgridcolor": "white",
                          "startlinecolor": "#2a3f5f"
                        },
                        "type": "carpet"
                      }
                    ],
                    "choropleth": [
                      {
                        "colorbar": {
                          "outlinewidth": 0,
                          "ticks": ""
                        },
                        "type": "choropleth"
                      }
                    ],
                    "contour": [
                      {
                        "colorbar": {
                          "outlinewidth": 0,
                          "ticks": ""
                        },
                        "colorscale": [
                          [
                            0,
                            "#0d0887"
                          ],
                          [
                            0.1111111111111111,
                            "#46039f"
                          ],
                          [
                            0.2222222222222222,
                            "#7201a8"
                          ],
                          [
                            0.3333333333333333,
                            "#9c179e"
                          ],
                          [
                            0.4444444444444444,
                            "#bd3786"
                          ],
                          [
                            0.5555555555555556,
                            "#d8576b"
                          ],
                          [
                            0.6666666666666666,
                            "#ed7953"
                          ],
                          [
                            0.7777777777777778,
                            "#fb9f3a"
                          ],
                          [
                            0.8888888888888888,
                            "#fdca26"
                          ],
                          [
                            1,
                            "#f0f921"
                          ]
                        ],
                        "type": "contour"
                      }
                    ],
                    "contourcarpet": [
                      {
                        "colorbar": {
                          "outlinewidth": 0,
                          "ticks": ""
                        },
                        "type": "contourcarpet"
                      }
                    ],
                    "heatmap": [
                      {
                        "colorbar": {
                          "outlinewidth": 0,
                          "ticks": ""
                        },
                        "colorscale": [
                          [
                            0,
                            "#0d0887"
                          ],
                          [
                            0.1111111111111111,
                            "#46039f"
                          ],
                          [
                            0.2222222222222222,
                            "#7201a8"
                          ],
                          [
                            0.3333333333333333,
                            "#9c179e"
                          ],
                          [
                            0.4444444444444444,
                            "#bd3786"
                          ],
                          [
                            0.5555555555555556,
                            "#d8576b"
                          ],
                          [
                            0.6666666666666666,
                            "#ed7953"
                          ],
                          [
                            0.7777777777777778,
                            "#fb9f3a"
                          ],
                          [
                            0.8888888888888888,
                            "#fdca26"
                          ],
                          [
                            1,
                            "#f0f921"
                          ]
                        ],
                        "type": "heatmap"
                      }
                    ],
                    "heatmapgl": [
                      {
                        "colorbar": {
                          "outlinewidth": 0,
                          "ticks": ""
                        },
                        "colorscale": [
                          [
                            0,
                            "#0d0887"
                          ],
                          [
                            0.1111111111111111,
                            "#46039f"
                          ],
                          [
                            0.2222222222222222,
                            "#7201a8"
                          ],
                          [
                            0.3333333333333333,
                            "#9c179e"
                          ],
                          [
                            0.4444444444444444,
                            "#bd3786"
                          ],
                          [
                            0.5555555555555556,
                            "#d8576b"
                          ],
                          [
                            0.6666666666666666,
                            "#ed7953"
                          ],
                          [
                            0.7777777777777778,
                            "#fb9f3a"
                          ],
                          [
                            0.8888888888888888,
                            "#fdca26"
                          ],
                          [
                            1,
                            "#f0f921"
                          ]
                        ],
                        "type": "heatmapgl"
                      }
                    ],
                    "histogram": [
                      {
                        "marker": {
                          "pattern": {
                            "fillmode": "overlay",
                            "size": 10,
                            "solidity": 0.2
                          }
                        },
                        "type": "histogram"
                      }
                    ],
                    "histogram2d": [
                      {
                        "colorbar": {
                          "outlinewidth": 0,
                          "ticks": ""
                        },
                        "colorscale": [
                          [
                            0,
                            "#0d0887"
                          ],
                          [
                            0.1111111111111111,
                            "#46039f"
                          ],
                          [
                            0.2222222222222222,
                            "#7201a8"
                          ],
                          [
                            0.3333333333333333,
                            "#9c179e"
                          ],
                          [
                            0.4444444444444444,
                            "#bd3786"
                          ],
                          [
                            0.5555555555555556,
                            "#d8576b"
                          ],
                          [
                            0.6666666666666666,
                            "#ed7953"
                          ],
                          [
                            0.7777777777777778,
                            "#fb9f3a"
                          ],
                          [
                            0.8888888888888888,
                            "#fdca26"
                          ],
                          [
                            1,
                            "#f0f921"
                          ]
                        ],
                        "type": "histogram2d"
                      }
                    ],
                    "histogram2dcontour": [
                      {
                        "colorbar": {
                          "outlinewidth": 0,
                          "ticks": ""
                        },
                        "colorscale": [
                          [
                            0,
                            "#0d0887"
                          ],
                          [
                            0.1111111111111111,
                            "#46039f"
                          ],
                          [
                            0.2222222222222222,
                            "#7201a8"
                          ],
                          [
                            0.3333333333333333,
                            "#9c179e"
                          ],
                          [
                            0.4444444444444444,
                            "#bd3786"
                          ],
                          [
                            0.5555555555555556,
                            "#d8576b"
                          ],
                          [
                            0.6666666666666666,
                            "#ed7953"
                          ],
                          [
                            0.7777777777777778,
                            "#fb9f3a"
                          ],
                          [
                            0.8888888888888888,
                            "#fdca26"
                          ],
                          [
                            1,
                            "#f0f921"
                          ]
                        ],
                        "type": "histogram2dcontour"
                      }
                    ],
                    "mesh3d": [
                      {
                        "colorbar": {
                          "outlinewidth": 0,
                          "ticks": ""
                        },
                        "type": "mesh3d"
                      }
                    ],
                    "parcoords": [
                      {
                        "line": {
                          "colorbar": {
                            "outlinewidth": 0,
                            "ticks": ""
                          }
                        },
                        "type": "parcoords"
                      }
                    ],
                    "pie": [
                      {
                        "automargin": true,
                        "type": "pie"
                      }
                    ],
                    "scatter": [
                      {
                        "fillpattern": {
                          "fillmode": "overlay",
                          "size": 10,
                          "solidity": 0.2
                        },
                        "type": "scatter"
                      }
                    ],
                    "scatter3d": [
                      {
                        "line": {
                          "colorbar": {
                            "outlinewidth": 0,
                            "ticks": ""
                          }
                        },
                        "marker": {
                          "colorbar": {
                            "outlinewidth": 0,
                            "ticks": ""
                          }
                        },
                        "type": "scatter3d"
                      }
                    ],
                    "scattercarpet": [
                      {
                        "marker": {
                          "colorbar": {
                            "outlinewidth": 0,
                            "ticks": ""
                          }
                        },
                        "type": "scattercarpet"
                      }
                    ],
                    "scattergeo": [
                      {
                        "marker": {
                          "colorbar": {
                            "outlinewidth": 0,
                            "ticks": ""
                          }
                        },
                        "type": "scattergeo"
                      }
                    ],
                    "scattergl": [
                      {
                        "marker": {
                          "colorbar": {
                            "outlinewidth": 0,
                            "ticks": ""
                          }
                        },
                        "type": "scattergl"
                      }
                    ],
                    "scattermapbox": [
                      {
                        "marker": {
                          "colorbar": {
                            "outlinewidth": 0,
                            "ticks": ""
                          }
                        },
                        "type": "scattermapbox"
                      }
                    ],
                    "scatterpolar": [
                      {
                        "marker": {
                          "colorbar": {
                            "outlinewidth": 0,
                            "ticks": ""
                          }
                        },
                        "type": "scatterpolar"
                      }
                    ],
                    "scatterpolargl": [
                      {
                        "marker": {
                          "colorbar": {
                            "outlinewidth": 0,
                            "ticks": ""
                          }
                        },
                        "type": "scatterpolargl"
                      }
                    ],
                    "scatterternary": [
                      {
                        "marker": {
                          "colorbar": {
                            "outlinewidth": 0,
                            "ticks": ""
                          }
                        },
                        "type": "scatterternary"
                      }
                    ],
                    "surface": [
                      {
                        "colorbar": {
                          "outlinewidth": 0,
                          "ticks": ""
                        },
                        "colorscale": [
                          [
                            0,
                            "#0d0887"
                          ],
                          [
                            0.1111111111111111,
                            "#46039f"
                          ],
                          [
                            0.2222222222222222,
                            "#7201a8"
                          ],
                          [
                            0.3333333333333333,
                            "#9c179e"
                          ],
                          [
                            0.4444444444444444,
                            "#bd3786"
                          ],
                          [
                            0.5555555555555556,
                            "#d8576b"
                          ],
                          [
                            0.6666666666666666,
                            "#ed7953"
                          ],
                          [
                            0.7777777777777778,
                            "#fb9f3a"
                          ],
                          [
                            0.8888888888888888,
                            "#fdca26"
                          ],
                          [
                            1,
                            "#f0f921"
                          ]
                        ],
                        "type": "surface"
                      }
                    ],
                    "table": [
                      {
                        "cells": {
                          "fill": {
                            "color": "#EBF0F8"
                          },
                          "line": {
                            "color": "white"
                          }
                        },
                        "header": {
                          "fill": {
                            "color": "#C8D4E3"
                          },
                          "line": {
                            "color": "white"
                          }
                        },
                        "type": "table"
                      }
                    ]
                  },
                  "layout": {
                    "annotationdefaults": {
                      "arrowcolor": "#2a3f5f",
                      "arrowhead": 0,
                      "arrowwidth": 1
                    },
                    "autotypenumbers": "strict",
                    "coloraxis": {
                      "colorbar": {
                        "outlinewidth": 0,
                        "ticks": ""
                      }
                    },
                    "colorscale": {
                      "diverging": [
                        [
                          0,
                          "#8e0152"
                        ],
                        [
                          0.1,
                          "#c51b7d"
                        ],
                        [
                          0.2,
                          "#de77ae"
                        ],
                        [
                          0.3,
                          "#f1b6da"
                        ],
                        [
                          0.4,
                          "#fde0ef"
                        ],
                        [
                          0.5,
                          "#f7f7f7"
                        ],
                        [
                          0.6,
                          "#e6f5d0"
                        ],
                        [
                          0.7,
                          "#b8e186"
                        ],
                        [
                          0.8,
                          "#7fbc41"
                        ],
                        [
                          0.9,
                          "#4d9221"
                        ],
                        [
                          1,
                          "#276419"
                        ]
                      ],
                      "sequential": [
                        [
                          0,
                          "#0d0887"
                        ],
                        [
                          0.1111111111111111,
                          "#46039f"
                        ],
                        [
                          0.2222222222222222,
                          "#7201a8"
                        ],
                        [
                          0.3333333333333333,
                          "#9c179e"
                        ],
                        [
                          0.4444444444444444,
                          "#bd3786"
                        ],
                        [
                          0.5555555555555556,
                          "#d8576b"
                        ],
                        [
                          0.6666666666666666,
                          "#ed7953"
                        ],
                        [
                          0.7777777777777778,
                          "#fb9f3a"
                        ],
                        [
                          0.8888888888888888,
                          "#fdca26"
                        ],
                        [
                          1,
                          "#f0f921"
                        ]
                      ],
                      "sequentialminus": [
                        [
                          0,
                          "#0d0887"
                        ],
                        [
                          0.1111111111111111,
                          "#46039f"
                        ],
                        [
                          0.2222222222222222,
                          "#7201a8"
                        ],
                        [
                          0.3333333333333333,
                          "#9c179e"
                        ],
                        [
                          0.4444444444444444,
                          "#bd3786"
                        ],
                        [
                          0.5555555555555556,
                          "#d8576b"
                        ],
                        [
                          0.6666666666666666,
                          "#ed7953"
                        ],
                        [
                          0.7777777777777778,
                          "#fb9f3a"
                        ],
                        [
                          0.8888888888888888,
                          "#fdca26"
                        ],
                        [
                          1,
                          "#f0f921"
                        ]
                      ]
                    },
                    "colorway": [
                      "#636efa",
                      "#EF553B",
                      "#00cc96",
                      "#ab63fa",
                      "#FFA15A",
                      "#19d3f3",
                      "#FF6692",
                      "#B6E880",
                      "#FF97FF",
                      "#FECB52"
                    ],
                    "font": {
                      "color": "#2a3f5f"
                    },
                    "geo": {
                      "bgcolor": "white",
                      "lakecolor": "white",
                      "landcolor": "#E5ECF6",
                      "showlakes": true,
                      "showland": true,
                      "subunitcolor": "white"
                    },
                    "hoverlabel": {
                      "align": "left"
                    },
                    "hovermode": "closest",
                    "mapbox": {
                      "style": "light"
                    },
                    "paper_bgcolor": "white",
                    "plot_bgcolor": "#E5ECF6",
                    "polar": {
                      "angularaxis": {
                        "gridcolor": "white",
                        "linecolor": "white",
                        "ticks": ""
                      },
                      "bgcolor": "#E5ECF6",
                      "radialaxis": {
                        "gridcolor": "white",
                        "linecolor": "white",
                        "ticks": ""
                      }
                    },
                    "scene": {
                      "xaxis": {
                        "backgroundcolor": "#E5ECF6",
                        "gridcolor": "white",
                        "gridwidth": 2,
                        "linecolor": "white",
                        "showbackground": true,
                        "ticks": "",
                        "zerolinecolor": "white"
                      },
                      "yaxis": {
                        "backgroundcolor": "#E5ECF6",
                        "gridcolor": "white",
                        "gridwidth": 2,
                        "linecolor": "white",
                        "showbackground": true,
                        "ticks": "",
                        "zerolinecolor": "white"
                      },
                      "zaxis": {
                        "backgroundcolor": "#E5ECF6",
                        "gridcolor": "white",
                        "gridwidth": 2,
                        "linecolor": "white",
                        "showbackground": true,
                        "ticks": "",
                        "zerolinecolor": "white"
                      }
                    },
                    "shapedefaults": {
                      "line": {
                        "color": "#2a3f5f"
                      }
                    },
                    "ternary": {
                      "aaxis": {
                        "gridcolor": "white",
                        "linecolor": "white",
                        "ticks": ""
                      },
                      "baxis": {
                        "gridcolor": "white",
                        "linecolor": "white",
                        "ticks": ""
                      },
                      "bgcolor": "#E5ECF6",
                      "caxis": {
                        "gridcolor": "white",
                        "linecolor": "white",
                        "ticks": ""
                      }
                    },
                    "title": {
                      "x": 0.05
                    },
                    "xaxis": {
                      "automargin": true,
                      "gridcolor": "white",
                      "linecolor": "white",
                      "ticks": "",
                      "title": {
                        "standoff": 15
                      },
                      "zerolinecolor": "white",
                      "zerolinewidth": 2
                    },
                    "yaxis": {
                      "automargin": true,
                      "gridcolor": "white",
                      "linecolor": "white",
                      "ticks": "",
                      "title": {
                        "standoff": 15
                      },
                      "zerolinecolor": "white",
                      "zerolinewidth": 2
                    }
                  }
                },
                "title": {
                  "text": "Зависимость средней заработной платы для DS и других специалистов от опыта работы"
                },
                "xaxis": {
                  "anchor": "y",
                  "domain": [
                    0,
                    1
                  ],
                  "title": {
                    "text": "avg"
                  }
                },
                "yaxis": {
                  "anchor": "x",
                  "domain": [
                    0,
                    1
                  ],
                  "title": {
                    "text": "experience"
                  }
                }
              }
            }
          },
          "metadata": {},
          "output_type": "display_data"
        }
      ],
      "source": [
        "# Готовим данные для графика: добавляем в датасеты со средней заработной платой столбец 'DS_other', \n",
        "# чтобы отметить, где вакансия для датасайентистов, а где - для других специалистов.\n",
        "\n",
        "avg_salaries['DS_other'] = 'DS'\n",
        "other_avg_salaries['DS_other'] = 'other'\n",
        "\n",
        "# Объединяем эти два датафрейма с помощью встроенной функции Pandas concat()\n",
        "df = pd.concat([avg_salaries, other_avg_salaries])\n",
        "\n",
        "\n",
        "# Строим на основе полученной таблицы df многоуровневую столбчатую диаграмму с помощью Plotly Express.\n",
        "fig = px.bar(\n",
        "    data_frame=df,    \n",
        "    x='avg',\n",
        "    y='experience',\n",
        "    color='DS_other',\n",
        "    barmode='group',\n",
        "    text_auto=True,\n",
        "    title='Зависимость средней заработной платы для DS и других специалистов от опыта работы'\n",
        ")\n",
        "fig.show()\n"
      ]
    },
    {
      "cell_type": "markdown",
      "id": "c8328c0a",
      "metadata": {},
      "source": [
        "График в формате html: [Зависимость средней заработной платы для DS и других специалистов от опыта работы](https://artamiana.github.io/DS_Vacancies_Project/images/avg_salaries.html)"
      ]
    },
    {
      "cell_type": "markdown",
      "id": "2541c6b6",
      "metadata": {},
      "source": [
        "На графике мы видим, насколько сильно - почти в 2 раза средняя заработная плата в вакансиях для дата-сайентистов превышает среднюю заработную плату в вакансиях для других специалистов в сфере IT."
      ]
    }
  ],
  "metadata": {
    "colab": {
      "collapsed_sections": [
        "8d62a9f3-f64e-4fe7-bdac-c4dffa16155e"
      ],
      "provenance": []
    },
    "kernelspec": {
      "display_name": "Python 3 (ipykernel)",
      "language": "python",
      "name": "python3"
    },
    "language_info": {
      "codemirror_mode": {
        "name": "ipython",
        "version": 3
      },
      "file_extension": ".py",
      "mimetype": "text/x-python",
      "name": "python",
      "nbconvert_exporter": "python",
      "pygments_lexer": "ipython3",
      "version": "3.12.0"
    }
  },
  "nbformat": 4,
  "nbformat_minor": 5
}
